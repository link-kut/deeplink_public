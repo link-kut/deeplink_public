{
 "cells": [
  {
   "cell_type": "markdown",
   "metadata": {},
   "source": [
    "# Gradient Descent"
   ]
  },
  {
   "cell_type": "markdown",
   "metadata": {},
   "source": [
    "## 1. Gradient"
   ]
  },
  {
   "cell_type": "code",
   "execution_count": 57,
   "metadata": {},
   "outputs": [],
   "source": [
    "import numpy as np\n",
    "import matplotlib.pylab as plt"
   ]
  },
  {
   "cell_type": "code",
   "execution_count": 58,
   "metadata": {},
   "outputs": [
    {
     "data": {
      "image/png": "[encoded data removed]",
      "text/plain": [
       "<Figure size 432x288 with 1 Axes>"
      ]
     },
     "metadata": {
      "needs_background": "light"
     },
     "output_type": "display_data"
    }
   ],
   "source": [
    "def numerical_diff(f, x):\n",
    "    h = 1e-4 # 0.0001\n",
    "    return (f(x+h) - f(x-h)) / (2*h)\n",
    "\n",
    "def function_1(x):\n",
    "    return 0.01*x**2 + 0.1*x \n",
    "\n",
    "def tangent_line(f, x):\n",
    "    d = numerical_diff(f, x)\n",
    "    return lambda t: d * (t - x) + f(x)\n",
    "     \n",
    "x = np.arange(0.0, 20.0, 0.1)\n",
    "y = function_1(x)\n",
    "plt.xlabel(\"x\")\n",
    "plt.ylabel(\"f(x)\")\n",
    "\n",
    "tf = tangent_line(function_1, 5)\n",
    "y2 = tf(x)\n",
    "\n",
    "plt.plot(x, y)\n",
    "plt.plot(x, y2)\n",
    "plt.show()"
   ]
  },
  {
   "cell_type": "markdown",
   "metadata": {},
   "source": [
    "## 2. Implement Gradient Descent in Python\n",
    "- https://towardsdatascience.com/implement-gradient-descent-in-python-9b93ed7108d1"
   ]
  },
  {
   "cell_type": "code",
   "execution_count": 103,
   "metadata": {},
   "outputs": [
    {
     "data": {
      "text/html": [
       "<img src=\"https://cdn-images-1.medium.com/max/800/1*5-56UEwcZHgzqIAtlnsLog.png\" width=\"300\" height=\"300\"/>"
      ],
      "text/plain": [
       "<IPython.core.display.Image object>"
      ]
     },
     "execution_count": 103,
     "metadata": {},
     "output_type": "execute_result"
    }
   ],
   "source": [
    "f = lambda x: (x + 5)**2\n",
    "\n",
    "from IPython.display import Image\n",
    "Image(url= \"https://cdn-images-1.medium.com/max/800/1*5-56UEwcZHgzqIAtlnsLog.png\", width=300, height=300)"
   ]
  },
  {
   "cell_type": "markdown",
   "metadata": {},
   "source": [
    "- Step 1 : Initialize parameters"
   ]
  },
  {
   "cell_type": "code",
   "execution_count": 108,
   "metadata": {},
   "outputs": [],
   "source": [
    "f = lambda x: (x + 5)**2\n",
    "\n",
    "cur_x = 3 # The algorithm starts at x=3\n",
    "\n",
    "learning_rate = 0.1 # Learning rate\n",
    "\n",
    "precision = 0.000001 #This tells us when to stop the algorithm\n",
    "\n",
    "previous_step_size = 1 #\n",
    "\n",
    "max_iters = 10000 # maximum number of iterations\n",
    "\n",
    "iters = 0 #iteration counter\n",
    "\n",
    "df = lambda x: 2 * (x + 5) #Gradient of our function "
   ]
  },
  {
   "cell_type": "markdown",
   "metadata": {},
   "source": [
    "- Step 2 : Run a loop to perform gradient descent\n",
    "  - Stop loop when difference between x values from 2 consecutive iterations is less than 0.000001 or when number of iterations exceeds 10,000"
   ]
  },
  {
   "cell_type": "code",
   "execution_count": 109,
   "metadata": {},
   "outputs": [
    {
     "name": "stdout",
     "output_type": "stream",
     "text": [
      "Iteration:  0 - X is  3.00000\n",
      "Iteration:  1 - X value is  1.40000\n",
      "Iteration:  2 - X value is  0.12000\n",
      "Iteration:  3 - X value is -0.90400\n",
      "Iteration:  4 - X value is -1.72320\n",
      "Iteration:  5 - X value is -2.37856\n",
      "Iteration:  6 - X value is -2.90285\n",
      "Iteration:  7 - X value is -3.32228\n",
      "Iteration:  8 - X value is -3.65782\n",
      "Iteration:  9 - X value is -3.92626\n",
      "Iteration: 10 - X value is -4.14101\n",
      "Iteration: 11 - X value is -4.31281\n",
      "Iteration: 12 - X value is -4.45024\n",
      "Iteration: 13 - X value is -4.56020\n",
      "Iteration: 14 - X value is -4.64816\n",
      "Iteration: 15 - X value is -4.71853\n",
      "Iteration: 16 - X value is -4.77482\n",
      "Iteration: 17 - X value is -4.81986\n",
      "Iteration: 18 - X value is -4.85588\n",
      "Iteration: 19 - X value is -4.88471\n",
      "Iteration: 20 - X value is -4.90777\n",
      "Iteration: 21 - X value is -4.92621\n",
      "Iteration: 22 - X value is -4.94097\n",
      "Iteration: 23 - X value is -4.95278\n",
      "Iteration: 24 - X value is -4.96222\n",
      "Iteration: 25 - X value is -4.96978\n",
      "Iteration: 26 - X value is -4.97582\n",
      "Iteration: 27 - X value is -4.98066\n",
      "Iteration: 28 - X value is -4.98453\n",
      "Iteration: 29 - X value is -4.98762\n",
      "Iteration: 30 - X value is -4.99010\n",
      "Iteration: 31 - X value is -4.99208\n",
      "Iteration: 32 - X value is -4.99366\n",
      "Iteration: 33 - X value is -4.99493\n",
      "Iteration: 34 - X value is -4.99594\n",
      "Iteration: 35 - X value is -4.99675\n",
      "Iteration: 36 - X value is -4.99740\n",
      "Iteration: 37 - X value is -4.99792\n",
      "Iteration: 38 - X value is -4.99834\n",
      "Iteration: 39 - X value is -4.99867\n",
      "Iteration: 40 - X value is -4.99894\n",
      "Iteration: 41 - X value is -4.99915\n",
      "Iteration: 42 - X value is -4.99932\n",
      "Iteration: 43 - X value is -4.99946\n",
      "Iteration: 44 - X value is -4.99956\n",
      "Iteration: 45 - X value is -4.99965\n",
      "Iteration: 46 - X value is -4.99972\n",
      "Iteration: 47 - X value is -4.99978\n",
      "Iteration: 48 - X value is -4.99982\n",
      "Iteration: 49 - X value is -4.99986\n",
      "Iteration: 50 - X value is -4.99989\n",
      "Iteration: 51 - X value is -4.99991\n",
      "Iteration: 52 - X value is -4.99993\n",
      "Iteration: 53 - X value is -4.99994\n",
      "Iteration: 54 - X value is -4.99995\n",
      "Iteration: 55 - X value is -4.99996\n",
      "Iteration: 56 - X value is -4.99997\n",
      "Iteration: 57 - X value is -4.99998\n",
      "Iteration: 58 - X value is -4.99998\n",
      "Iteration: 59 - X value is -4.99998\n",
      "Iteration: 60 - X value is -4.99999\n",
      "Iteration: 61 - X value is -4.99999\n",
      "Iteration: 62 - X value is -4.99999\n",
      "Iteration: 63 - X value is -4.99999\n",
      "Iteration: 64 - X value is -4.99999\n",
      "Iteration: 65 - X value is -5.00000\n",
      "Iteration: 66 - X value is -5.00000\n",
      "The local minimum occurs at -5.00000\n"
     ]
    }
   ],
   "source": [
    "print(\"Iteration: {0:2d} - X is {1:8.5f}\".format(0, cur_x))\n",
    "\n",
    "while previous_step_size > precision and iters < max_iters:\n",
    "    prev_x = cur_x #Store current x value in prev_x\n",
    "    \n",
    "    cur_x = cur_x - learning_rate * df(prev_x) #Grad descent\n",
    "\n",
    "    previous_step_size = abs(cur_x - prev_x) #Change in x\n",
    "\n",
    "    iters = iters + 1 #iteration count\n",
    "    \n",
    "    print(\"Iteration: {0:2d} - X value is {1:8.5f}\".format(iters, cur_x)) #Print iterations\n",
    "    \n",
    "print(\"The local minimum occurs at {0:8.5f}\".format(cur_x))"
   ]
  },
  {
   "cell_type": "markdown",
   "metadata": {},
   "source": [
    "## 3. Implement 2D Gradient Descent in Python"
   ]
  },
  {
   "cell_type": "code",
   "execution_count": 110,
   "metadata": {},
   "outputs": [],
   "source": [
    "f = lambda x, y: x ** 2 + y ** 2 + 10\n",
    "\n",
    "cur_x = 3 # The algorithm starts at x=3\n",
    "cur_y = -3 # The algorithm starts at y=-3\n",
    "\n",
    "learning_rate = 0.1 # Learning rate\n",
    "\n",
    "precision = 0.000001 #This tells us when to stop the algorithm\n",
    "\n",
    "previous_step_size = 1 #\n",
    "\n",
    "max_iters = 10000 # maximum number of iterations\n",
    "\n",
    "iters = 0 #iteration counter\n",
    "\n",
    "df_x = lambda x, y: 2 * x #Gradient of our function for x\n",
    "df_y = lambda x, y: 2 * y #Gradient of our function for y"
   ]
  },
  {
   "cell_type": "code",
   "execution_count": 111,
   "metadata": {},
   "outputs": [
    {
     "name": "stdout",
     "output_type": "stream",
     "text": [
      "Iteration:  0 - X is  3.00000, Y is -3.00000,\n",
      "Iteration:  1 - X is  2.40000, Y is -2.40000,\n",
      "Iteration:  2 - X is  1.92000, Y is -1.92000,\n",
      "Iteration:  3 - X is  1.53600, Y is -1.53600,\n",
      "Iteration:  4 - X is  1.22880, Y is -1.22880,\n",
      "Iteration:  5 - X is  0.98304, Y is -0.98304,\n",
      "Iteration:  6 - X is  0.78643, Y is -0.78643,\n",
      "Iteration:  7 - X is  0.62915, Y is -0.62915,\n",
      "Iteration:  8 - X is  0.50332, Y is -0.50332,\n",
      "Iteration:  9 - X is  0.40265, Y is -0.40265,\n",
      "Iteration: 10 - X is  0.32212, Y is -0.32212,\n",
      "Iteration: 11 - X is  0.25770, Y is -0.25770,\n",
      "Iteration: 12 - X is  0.20616, Y is -0.20616,\n",
      "Iteration: 13 - X is  0.16493, Y is -0.16493,\n",
      "Iteration: 14 - X is  0.13194, Y is -0.13194,\n",
      "Iteration: 15 - X is  0.10555, Y is -0.10555,\n",
      "Iteration: 16 - X is  0.08444, Y is -0.08444,\n",
      "Iteration: 17 - X is  0.06755, Y is -0.06755,\n",
      "Iteration: 18 - X is  0.05404, Y is -0.05404,\n",
      "Iteration: 19 - X is  0.04323, Y is -0.04323,\n",
      "Iteration: 20 - X is  0.03459, Y is -0.03459,\n",
      "Iteration: 21 - X is  0.02767, Y is -0.02767,\n",
      "Iteration: 22 - X is  0.02214, Y is -0.02214,\n",
      "Iteration: 23 - X is  0.01771, Y is -0.01771,\n",
      "Iteration: 24 - X is  0.01417, Y is -0.01417,\n",
      "Iteration: 25 - X is  0.01133, Y is -0.01133,\n",
      "Iteration: 26 - X is  0.00907, Y is -0.00907,\n",
      "Iteration: 27 - X is  0.00725, Y is -0.00725,\n",
      "Iteration: 28 - X is  0.00580, Y is -0.00580,\n",
      "Iteration: 29 - X is  0.00464, Y is -0.00464,\n",
      "Iteration: 30 - X is  0.00371, Y is -0.00371,\n",
      "Iteration: 31 - X is  0.00297, Y is -0.00297,\n",
      "Iteration: 32 - X is  0.00238, Y is -0.00238,\n",
      "Iteration: 33 - X is  0.00190, Y is -0.00190,\n",
      "Iteration: 34 - X is  0.00152, Y is -0.00152,\n",
      "Iteration: 35 - X is  0.00122, Y is -0.00122,\n",
      "Iteration: 36 - X is  0.00097, Y is -0.00097,\n",
      "Iteration: 37 - X is  0.00078, Y is -0.00078,\n",
      "Iteration: 38 - X is  0.00062, Y is -0.00062,\n",
      "Iteration: 39 - X is  0.00050, Y is -0.00050,\n",
      "Iteration: 40 - X is  0.00040, Y is -0.00040,\n",
      "Iteration: 41 - X is  0.00032, Y is -0.00032,\n",
      "Iteration: 42 - X is  0.00026, Y is -0.00026,\n",
      "Iteration: 43 - X is  0.00020, Y is -0.00020,\n",
      "Iteration: 44 - X is  0.00016, Y is -0.00016,\n",
      "Iteration: 45 - X is  0.00013, Y is -0.00013,\n",
      "Iteration: 46 - X is  0.00010, Y is -0.00010,\n",
      "Iteration: 47 - X is  0.00008, Y is -0.00008,\n",
      "Iteration: 48 - X is  0.00007, Y is -0.00007,\n",
      "Iteration: 49 - X is  0.00005, Y is -0.00005,\n",
      "Iteration: 50 - X is  0.00004, Y is -0.00004,\n",
      "Iteration: 51 - X is  0.00003, Y is -0.00003,\n",
      "Iteration: 52 - X is  0.00003, Y is -0.00003,\n",
      "Iteration: 53 - X is  0.00002, Y is -0.00002,\n",
      "Iteration: 54 - X is  0.00002, Y is -0.00002,\n",
      "Iteration: 55 - X is  0.00001, Y is -0.00001,\n",
      "Iteration: 56 - X is  0.00001, Y is -0.00001,\n",
      "Iteration: 57 - X is  0.00001, Y is -0.00001,\n",
      "Iteration: 58 - X is  0.00001, Y is -0.00001,\n",
      "Iteration: 59 - X is  0.00001, Y is -0.00001,\n",
      "Iteration: 60 - X is  0.00000, Y is -0.00000,\n",
      "Iteration: 61 - X is  0.00000, Y is -0.00000,\n",
      "Iteration: 62 - X is  0.00000, Y is -0.00000,\n",
      "Iteration: 63 - X is  0.00000, Y is -0.00000,\n",
      "Iteration: 64 - X is  0.00000, Y is -0.00000,\n",
      "The local minimum occurs at  0.00000, -0.00000\n"
     ]
    }
   ],
   "source": [
    "print(\"Iteration: {0:2d} - X is {1:8.5f}, Y is {2:8.5f},\".format(0, cur_x, cur_y))\n",
    "\n",
    "while previous_step_size > precision and iters < max_iters:\n",
    "    prev_x = cur_x #Store current x value in prev_x\n",
    "    prev_y = cur_y #Store current x value in prev_x    \n",
    "    \n",
    "    cur_x = cur_x - learning_rate * df_x(prev_x, prev_y) #Grad descent for x\n",
    "    cur_y = cur_y - learning_rate * df_y(prev_x, prev_y) #Grad descent for x    \n",
    "\n",
    "    previous_step_size = abs(cur_x - prev_x) + abs(cur_y - prev_y) #Change in x\n",
    "    \n",
    "    iters = iters + 1 #iteration count\n",
    "    \n",
    "    print(\"Iteration: {0:2d} - X is {1:8.5f}, Y is {2:8.5f},\".format(iters, cur_x, cur_y)) #Print iterations\n",
    "    \n",
    "print(\"The local minimum occurs at {0:8.5f}, {1:8.5f}\".format(cur_x, cur_y))"
   ]
  },
  {
   "cell_type": "code",
   "execution_count": null,
   "metadata": {},
   "outputs": [],
   "source": []
  }
 ],
 "metadata": {
  "kernelspec": {
   "display_name": "Python 3",
   "language": "python",
   "name": "python3"
  },
  "language_info": {
   "codemirror_mode": {
    "name": "ipython",
    "version": 3
   },
   "file_extension": ".py",
   "mimetype": "text/x-python",
   "name": "python",
   "nbconvert_exporter": "python",
   "pygments_lexer": "ipython3",
   "version": "3.6.8"
  }
 },
 "nbformat": 4,
 "nbformat_minor": 2
}
