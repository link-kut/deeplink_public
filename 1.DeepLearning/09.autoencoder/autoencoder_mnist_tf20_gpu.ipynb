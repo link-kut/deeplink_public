{
  "nbformat": 4,
  "nbformat_minor": 0,
  "metadata": {
    "colab": {
      "name": "autoencoder-mnist-tf20-gpu",
      "version": "0.3.2",
      "provenance": [],
      "collapsed_sections": [],
      "include_colab_link": true
    },
    "kernelspec": {
      "name": "python3",
      "display_name": "Python 3"
    },
    "accelerator": "GPU"
  },
  "cells": [
    {
      "cell_type": "markdown",
      "metadata": {
        "id": "view-in-github",
        "colab_type": "text"
      },
      "source": [
        "<a href=\"https://colab.research.google.com/github/link-kut/deeplink_public/blob/master/1.DeepLearning/09.autoencoder/autoencoder_mnist_tf20_gpu.ipynb\" target=\"_parent\"><img src=\"https://colab.research.google.com/assets/colab-badge.svg\" alt=\"Open In Colab\"/></a>"
      ]
    },
    {
      "cell_type": "markdown",
      "metadata": {
        "id": "T7DOe0EGcdnK",
        "colab_type": "text"
      },
      "source": [
        "### https://rohitmidha23.github.io/Colab-Tricks/#show-gpu-memory-while-training"
      ]
    },
    {
      "cell_type": "code",
      "metadata": {
        "id": "3EF6jSg5FOfN",
        "colab_type": "code",
        "outputId": "c94c25ff-bcc9-4e36-9f0a-2153c199f368",
        "colab": {
          "base_uri": "https://localhost:8080/",
          "height": 411
        }
      },
      "source": [
        "!pip install tensorflow-gpu==2.0.0-alpha0\n",
        "!pip install gputil\n",
        "!pip install psutil\n",
        "!pip install humanize"
      ],
      "execution_count": 0,
      "outputs": [
        {
          "output_type": "stream",
          "text": [
            "Requirement already satisfied: tensorflow-gpu==2.0.0-alpha0 in /usr/local/lib/python3.6/dist-packages (2.0.0a0)\n",
            "Requirement already satisfied: keras-applications>=1.0.6 in /usr/local/lib/python3.6/dist-packages (from tensorflow-gpu==2.0.0-alpha0) (1.0.7)\n",
            "Requirement already satisfied: google-pasta>=0.1.2 in /usr/local/lib/python3.6/dist-packages (from tensorflow-gpu==2.0.0-alpha0) (0.1.6)\n",
            "Requirement already satisfied: termcolor>=1.1.0 in /usr/local/lib/python3.6/dist-packages (from tensorflow-gpu==2.0.0-alpha0) (1.1.0)\n",
            "Requirement already satisfied: absl-py>=0.7.0 in /usr/local/lib/python3.6/dist-packages (from tensorflow-gpu==2.0.0-alpha0) (0.7.1)\n",
            "Requirement already satisfied: astor>=0.6.0 in /usr/local/lib/python3.6/dist-packages (from tensorflow-gpu==2.0.0-alpha0) (0.8.0)\n",
            "Requirement already satisfied: six>=1.10.0 in /usr/local/lib/python3.6/dist-packages (from tensorflow-gpu==2.0.0-alpha0) (1.12.0)\n",
            "Requirement already satisfied: wheel>=0.26 in /usr/local/lib/python3.6/dist-packages (from tensorflow-gpu==2.0.0-alpha0) (0.33.4)\n",
            "Requirement already satisfied: keras-preprocessing>=1.0.5 in /usr/local/lib/python3.6/dist-packages (from tensorflow-gpu==2.0.0-alpha0) (1.0.9)\n",
            "Requirement already satisfied: tf-estimator-nightly<1.14.0.dev2019030116,>=1.14.0.dev2019030115 in /usr/local/lib/python3.6/dist-packages (from tensorflow-gpu==2.0.0-alpha0) (1.14.0.dev2019030115)\n",
            "Requirement already satisfied: tb-nightly<1.14.0a20190302,>=1.14.0a20190301 in /usr/local/lib/python3.6/dist-packages (from tensorflow-gpu==2.0.0-alpha0) (1.14.0a20190301)\n",
            "Requirement already satisfied: gast>=0.2.0 in /usr/local/lib/python3.6/dist-packages (from tensorflow-gpu==2.0.0-alpha0) (0.2.2)\n",
            "Requirement already satisfied: grpcio>=1.8.6 in /usr/local/lib/python3.6/dist-packages (from tensorflow-gpu==2.0.0-alpha0) (1.15.0)\n",
            "Requirement already satisfied: protobuf>=3.6.1 in /usr/local/lib/python3.6/dist-packages (from tensorflow-gpu==2.0.0-alpha0) (3.7.1)\n",
            "Requirement already satisfied: numpy<2.0,>=1.14.5 in /usr/local/lib/python3.6/dist-packages (from tensorflow-gpu==2.0.0-alpha0) (1.16.3)\n",
            "Requirement already satisfied: h5py in /usr/local/lib/python3.6/dist-packages (from keras-applications>=1.0.6->tensorflow-gpu==2.0.0-alpha0) (2.8.0)\n",
            "Requirement already satisfied: markdown>=2.6.8 in /usr/local/lib/python3.6/dist-packages (from tb-nightly<1.14.0a20190302,>=1.14.0a20190301->tensorflow-gpu==2.0.0-alpha0) (3.1.1)\n",
            "Requirement already satisfied: werkzeug>=0.11.15 in /usr/local/lib/python3.6/dist-packages (from tb-nightly<1.14.0a20190302,>=1.14.0a20190301->tensorflow-gpu==2.0.0-alpha0) (0.15.4)\n",
            "Requirement already satisfied: setuptools in /usr/local/lib/python3.6/dist-packages (from protobuf>=3.6.1->tensorflow-gpu==2.0.0-alpha0) (41.0.1)\n",
            "Requirement already satisfied: gputil in /usr/local/lib/python3.6/dist-packages (1.4.0)\n",
            "Requirement already satisfied: psutil in /usr/local/lib/python3.6/dist-packages (5.4.8)\n",
            "Requirement already satisfied: humanize in /usr/local/lib/python3.6/dist-packages (0.5.1)\n"
          ],
          "name": "stdout"
        }
      ]
    },
    {
      "cell_type": "code",
      "metadata": {
        "id": "bnLe8f1jFTHP",
        "colab_type": "code",
        "outputId": "e9603ea8-961c-47cb-c47d-2f2f7f1b1f5a",
        "colab": {
          "base_uri": "https://localhost:8080/",
          "height": 34
        }
      },
      "source": [
        "import os, sys, humanize, psutil, GPUtil\n",
        "import tensorflow as tf\n",
        "#tf.debugging.set_log_device_placement(True)\n",
        "print(tf.__version__)"
      ],
      "execution_count": 0,
      "outputs": [
        {
          "output_type": "stream",
          "text": [
            "2.0.0-alpha0\n"
          ],
          "name": "stdout"
        }
      ]
    },
    {
      "cell_type": "code",
      "metadata": {
        "id": "udPobbXuFjyJ",
        "colab_type": "code",
        "outputId": "750d0d51-d7c8-4d7d-aa65-7b5721b8be13",
        "colab": {
          "base_uri": "https://localhost:8080/",
          "height": 34
        }
      },
      "source": [
        "device_name = tf.test.gpu_device_name()\n",
        "if device_name != '/device:GPU:0':\n",
        "  raise SystemError('GPU device not found')\n",
        "print('Found GPU at: {}'.format(device_name))"
      ],
      "execution_count": 0,
      "outputs": [
        {
          "output_type": "stream",
          "text": [
            "Found GPU at: /device:GPU:0\n"
          ],
          "name": "stdout"
        }
      ]
    },
    {
      "cell_type": "code",
      "metadata": {
        "id": "dyHxgWa_WOwc",
        "colab_type": "code",
        "outputId": "3525d5a0-3d6a-49f3-8097-7f1760d8e761",
        "colab": {
          "base_uri": "https://localhost:8080/",
          "height": 68
        }
      },
      "source": [
        "# Define function\n",
        "def mem_report():\n",
        "  print(\"Gen RAM Free: \" + humanize.naturalsize( psutil.virtual_memory().available ))\n",
        "  \n",
        "  GPUs = GPUtil.getGPUs()\n",
        "  for i, gpu in enumerate(GPUs):\n",
        "    print(\"GPU {0}: RAM Free: {1:.0f}MB | Used: {2:.0f}MB | Util {3:3.0f}% | Total {4:.0f}MB\".format(\n",
        "        i, \n",
        "        gpu.memoryFree, gpu.memoryUsed, gpu.memoryUtil*100, gpu.memoryTotal\n",
        "    ))\n",
        "    print()\n",
        "    \n",
        "# Execute function\n",
        "mem_report()"
      ],
      "execution_count": 0,
      "outputs": [
        {
          "output_type": "stream",
          "text": [
            "Gen RAM Free: 12.7 GB\n",
            "GPU 0: RAM Free: 14950MB | Used: 129MB | Util   1% | Total 15079MB\n",
            "\n"
          ],
          "name": "stdout"
        }
      ]
    },
    {
      "cell_type": "code",
      "metadata": {
        "id": "8xXe2GdWFm7_",
        "colab_type": "code",
        "colab": {}
      },
      "source": [
        "from tensorflow.keras import layers\n",
        "from tensorflow.keras.models import Model\n",
        "from tensorflow.keras.datasets import mnist\n",
        "from tensorflow.keras import optimizers\n",
        "from tensorflow.keras.callbacks import EarlyStopping, Callback\n",
        "\n",
        "import matplotlib.pyplot as plt\n",
        "import numpy as np"
      ],
      "execution_count": 0,
      "outputs": []
    },
    {
      "cell_type": "code",
      "metadata": {
        "id": "04GEAPIRHeVp",
        "colab_type": "code",
        "outputId": "f6c4f4f5-c3d4-4cdb-8fb1-b9230d4b8c68",
        "colab": {
          "base_uri": "https://localhost:8080/",
          "height": 85
        }
      },
      "source": [
        "(x_train, _), (x_test, _) = mnist.load_data()\n",
        " \n",
        "x_train = x_train.astype('float32') / 255.0\n",
        "x_test = x_test.astype('float32') / 255.0\n",
        "\n",
        "print(x_train.shape)\n",
        "print(x_test.shape)\n",
        "\n",
        "x_train = x_train.reshape(x_train.shape[0], -1)\n",
        "x_test = x_test.reshape(x_test.shape[0], -1)\n",
        "\n",
        "print(x_train.shape)\n",
        "print(x_test.shape)"
      ],
      "execution_count": 0,
      "outputs": [
        {
          "output_type": "stream",
          "text": [
            "(60000, 28, 28)\n",
            "(10000, 28, 28)\n",
            "(60000, 784)\n",
            "(10000, 784)\n"
          ],
          "name": "stdout"
        }
      ]
    },
    {
      "cell_type": "code",
      "metadata": {
        "id": "WPvWaMQZGgf4",
        "colab_type": "code",
        "colab": {}
      },
      "source": [
        "class AE(Model):\n",
        "  def __init__(self, x_nodes=784, z_dim=36):\n",
        "    self.x = layers.Input(shape=(x_nodes,))\n",
        "    \n",
        "    self.encorder_1 = layers.Dense(\n",
        "        units=512, \n",
        "        kernel_initializer='glorot_normal',\n",
        "        bias_initializer='zero',\n",
        "        activation='sigmoid'        \n",
        "    )(self.x)\n",
        "    \n",
        "    self.encorder_2 = layers.Dense(\n",
        "        units=128, \n",
        "        kernel_initializer='glorot_normal',\n",
        "        bias_initializer='zero',\n",
        "        activation='sigmoid'        \n",
        "    )(self.encorder_1)\n",
        "    \n",
        "    self.z = layers.Dense(\n",
        "        units=z_dim, \n",
        "        kernel_initializer='glorot_normal',\n",
        "        bias_initializer='zero',\n",
        "        activation='sigmoid'\n",
        "    )(self.encorder_2)\n",
        "    \n",
        "    self.decorder_1 = layers.Dense(\n",
        "        units=128,\n",
        "        kernel_initializer='glorot_normal',\n",
        "        bias_initializer='zero',\n",
        "        activation='sigmoid'\n",
        "    )(self.z)\n",
        "    \n",
        "    self.decorder_2 = layers.Dense(\n",
        "        units=512,\n",
        "        kernel_initializer='glorot_normal',\n",
        "        bias_initializer='zero',\n",
        "        activation='sigmoid'\n",
        "    )(self.decorder_1)\n",
        "    \n",
        "    self.y = layers.Dense(\n",
        "        units=x_nodes,\n",
        "        kernel_initializer='glorot_normal',\n",
        "        bias_initializer='zero',\n",
        "        activation='sigmoid'\n",
        "    )(self.decorder_2)\n",
        "    \n",
        "    super().__init__(self.x, self.y)\n",
        "    \n",
        "    nesterov = optimizers.SGD(lr=0.01, decay=1e-6, momentum=0.9, nesterov=True)\n",
        "\n",
        "    self.compile(\n",
        "        optimizer=\"adam\", \n",
        "        loss='mse'\n",
        "    )"
      ],
      "execution_count": 0,
      "outputs": []
    },
    {
      "cell_type": "code",
      "metadata": {
        "id": "aITkrCkMIdlZ",
        "colab_type": "code",
        "outputId": "63956a6e-c256-4a3a-946b-29a72b71c132",
        "colab": {
          "base_uri": "https://localhost:8080/",
          "height": 391
        }
      },
      "source": [
        "x_nodes = 784\n",
        "z_dim = 36\n",
        "\n",
        "autoencoder = AE(x_nodes, z_dim)\n",
        "autoencoder.summary()"
      ],
      "execution_count": 0,
      "outputs": [
        {
          "output_type": "stream",
          "text": [
            "Model: \"ae\"\n",
            "_________________________________________________________________\n",
            "Layer (type)                 Output Shape              Param #   \n",
            "=================================================================\n",
            "input_1 (InputLayer)         [(None, 784)]             0         \n",
            "_________________________________________________________________\n",
            "dense (Dense)                (None, 512)               401920    \n",
            "_________________________________________________________________\n",
            "dense_1 (Dense)              (None, 128)               65664     \n",
            "_________________________________________________________________\n",
            "dense_2 (Dense)              (None, 36)                4644      \n",
            "_________________________________________________________________\n",
            "dense_3 (Dense)              (None, 128)               4736      \n",
            "_________________________________________________________________\n",
            "dense_4 (Dense)              (None, 512)               66048     \n",
            "_________________________________________________________________\n",
            "dense_5 (Dense)              (None, 784)               402192    \n",
            "=================================================================\n",
            "Total params: 945,204\n",
            "Trainable params: 945,204\n",
            "Non-trainable params: 0\n",
            "_________________________________________________________________\n"
          ],
          "name": "stdout"
        }
      ]
    },
    {
      "cell_type": "code",
      "metadata": {
        "id": "KdTtqqXpra-6",
        "colab_type": "code",
        "outputId": "cb4adffc-264e-4583-ebb8-4b039d06bf78",
        "colab": {
          "base_uri": "https://localhost:8080/",
          "height": 289
        }
      },
      "source": [
        "encoder = Model(autoencoder.x, autoencoder.z)\n",
        "encoder.summary()"
      ],
      "execution_count": 0,
      "outputs": [
        {
          "output_type": "stream",
          "text": [
            "Model: \"model\"\n",
            "_________________________________________________________________\n",
            "Layer (type)                 Output Shape              Param #   \n",
            "=================================================================\n",
            "input_1 (InputLayer)         [(None, 784)]             0         \n",
            "_________________________________________________________________\n",
            "dense (Dense)                (None, 512)               401920    \n",
            "_________________________________________________________________\n",
            "dense_1 (Dense)              (None, 128)               65664     \n",
            "_________________________________________________________________\n",
            "dense_2 (Dense)              (None, 36)                4644      \n",
            "=================================================================\n",
            "Total params: 472,228\n",
            "Trainable params: 472,228\n",
            "Non-trainable params: 0\n",
            "_________________________________________________________________\n"
          ],
          "name": "stdout"
        }
      ]
    },
    {
      "cell_type": "code",
      "metadata": {
        "id": "yt7PiYBJxiFC",
        "colab_type": "code",
        "colab": {}
      },
      "source": [
        "class LossHistory(Callback):\n",
        "    def __init__(self, model):\n",
        "        self.model = model\n",
        "        self.epoch = 0\n",
        "        self.train_losses = []\n",
        "        self.val_losses = []        \n",
        "\n",
        "    def on_epoch_end(self, batch, logs={}):\n",
        "        self.train_losses.append(logs.get('loss'))\n",
        "        self.val_losses.append(logs.get('val_loss'))\n",
        "        if self.epoch % 10 == 0:\n",
        "            print(\"epoch: {0} - train loss: {1:8.6f} - val loss: {2:8.6f}\".format(\n",
        "                self.epoch, \n",
        "                logs.get('loss'),\n",
        "                logs.get('val_loss')\n",
        "            ))\n",
        "#             mem_report()\n",
        "        self.epoch += 1"
      ],
      "execution_count": 0,
      "outputs": []
    },
    {
      "cell_type": "code",
      "metadata": {
        "id": "jkV7rJWjIsM8",
        "colab_type": "code",
        "outputId": "49413731-1fa4-4fb9-86ea-d2efdab14910",
        "colab": {
          "base_uri": "https://localhost:8080/",
          "height": 646
        }
      },
      "source": [
        "history = LossHistory(model=autoencoder)\n",
        "early_stopping = EarlyStopping(monitor='val_loss', patience=7)\n",
        "\n",
        "train = autoencoder.fit(\n",
        "    x=x_train, \n",
        "    y=x_train, \n",
        "    epochs=500, \n",
        "    batch_size=512,\n",
        "    shuffle=True, \n",
        "    validation_data=(x_test, x_test),\n",
        "    verbose=0,\n",
        "    callbacks=[history, early_stopping]\n",
        ")"
      ],
      "execution_count": 0,
      "outputs": [
        {
          "output_type": "stream",
          "text": [
            "epoch: 0 - train loss: 0.072957 - val loss: 0.067603\n",
            "epoch: 10 - train loss: 0.042505 - val loss: 0.041731\n",
            "epoch: 20 - train loss: 0.029910 - val loss: 0.029428\n",
            "epoch: 30 - train loss: 0.025907 - val loss: 0.025520\n",
            "epoch: 40 - train loss: 0.022344 - val loss: 0.022238\n",
            "epoch: 50 - train loss: 0.020159 - val loss: 0.020258\n",
            "epoch: 60 - train loss: 0.018568 - val loss: 0.018869\n",
            "epoch: 70 - train loss: 0.017224 - val loss: 0.017435\n",
            "epoch: 80 - train loss: 0.015989 - val loss: 0.016313\n",
            "epoch: 90 - train loss: 0.015057 - val loss: 0.015444\n",
            "epoch: 100 - train loss: 0.014295 - val loss: 0.014819\n",
            "epoch: 110 - train loss: 0.013652 - val loss: 0.014223\n",
            "epoch: 120 - train loss: 0.013084 - val loss: 0.013700\n",
            "epoch: 130 - train loss: 0.012524 - val loss: 0.013185\n",
            "epoch: 140 - train loss: 0.011936 - val loss: 0.012602\n",
            "epoch: 150 - train loss: 0.011405 - val loss: 0.012093\n",
            "epoch: 160 - train loss: 0.010871 - val loss: 0.011570\n",
            "epoch: 170 - train loss: 0.010401 - val loss: 0.011125\n",
            "epoch: 180 - train loss: 0.010005 - val loss: 0.010725\n",
            "epoch: 190 - train loss: 0.009632 - val loss: 0.010354\n",
            "epoch: 200 - train loss: 0.009314 - val loss: 0.010058\n",
            "epoch: 210 - train loss: 0.009019 - val loss: 0.009989\n",
            "epoch: 220 - train loss: 0.008720 - val loss: 0.009457\n",
            "epoch: 230 - train loss: 0.008436 - val loss: 0.009209\n",
            "epoch: 240 - train loss: 0.008163 - val loss: 0.009052\n",
            "epoch: 250 - train loss: 0.007933 - val loss: 0.008828\n",
            "epoch: 260 - train loss: 0.007707 - val loss: 0.008475\n",
            "epoch: 270 - train loss: 0.007484 - val loss: 0.008256\n",
            "epoch: 280 - train loss: 0.007297 - val loss: 0.008163\n",
            "epoch: 290 - train loss: 0.007128 - val loss: 0.008025\n",
            "epoch: 300 - train loss: 0.006975 - val loss: 0.007816\n",
            "epoch: 310 - train loss: 0.006833 - val loss: 0.007643\n",
            "epoch: 320 - train loss: 0.006690 - val loss: 0.007580\n",
            "epoch: 330 - train loss: 0.006584 - val loss: 0.007374\n",
            "epoch: 340 - train loss: 0.006476 - val loss: 0.007344\n",
            "epoch: 350 - train loss: 0.006362 - val loss: 0.007262\n",
            "epoch: 360 - train loss: 0.006273 - val loss: 0.007239\n"
          ],
          "name": "stdout"
        }
      ]
    },
    {
      "cell_type": "code",
      "metadata": {
        "id": "Oa-tC9GGHzha",
        "colab_type": "code",
        "colab": {}
      },
      "source": [
        "def plot_loss(history):\n",
        "    plt.plot(history.history['loss'])\n",
        "    plt.plot(history.history['val_loss'])\n",
        "    plt.title('Model Loss')\n",
        "    plt.ylabel('Loss')\n",
        "    plt.xlabel('Epoch')\n",
        "    plt.legend(['Train', 'Test'], loc=0)"
      ],
      "execution_count": 0,
      "outputs": []
    },
    {
      "cell_type": "code",
      "metadata": {
        "id": "LiXpkPjvLnmj",
        "colab_type": "code",
        "outputId": "da23ef13-5556-40fd-f45b-b024e7ffc25f",
        "colab": {
          "base_uri": "https://localhost:8080/",
          "height": 295
        }
      },
      "source": [
        "plot_loss(train)\n",
        "plt.show()"
      ],
      "execution_count": 0,
      "outputs": [
        {
          "output_type": "display_data",
          "data": {
            "image/png": "[encoded data removed]",
            "text/plain": [
              "<Figure size 432x288 with 1 Axes>"
            ]
          },
          "metadata": {
            "tags": []
          }
        }
      ]
    },
    {
      "cell_type": "code",
      "metadata": {
        "id": "jlkO_iwKHlIw",
        "colab_type": "code",
        "colab": {}
      },
      "source": [
        "def show_ae(ae, sample_size=10):\n",
        "  encoded = encoder.predict(x_test)\n",
        "  decoded = autoencoder.predict(x_test)\n",
        "  \n",
        "  plt.figure(figsize=(20, 6))\n",
        "  \n",
        "  for i in range(sample_size):\n",
        "    ax = plt.subplot(3, sample_size, i+1)\n",
        "    plt.imshow(x_test[i].reshape(28, 28))\n",
        "    plt.gray()\n",
        "    ax.get_xaxis().set_visible(False)\n",
        "    ax.get_yaxis().set_visible(False)\n",
        "    \n",
        "    ax = plt.subplot(3, sample_size, i+1+sample_size)\n",
        "    plt.stem(encoded[i].reshape(-1))\n",
        "    plt.gray()\n",
        "    ax.get_xaxis().set_visible(False)\n",
        "    ax.get_yaxis().set_visible(False)\n",
        "    \n",
        "    ax = plt.subplot(3, sample_size, i+1+sample_size*2)\n",
        "    plt.imshow(decoded[i].reshape(28, 28))\n",
        "    plt.gray()\n",
        "    ax.get_xaxis().set_visible(False)\n",
        "    ax.get_yaxis().set_visible(False)\n",
        "    \n",
        "  plt.show()"
      ],
      "execution_count": 0,
      "outputs": []
    },
    {
      "cell_type": "code",
      "metadata": {
        "id": "YRmrya_PMTu2",
        "colab_type": "code",
        "outputId": "681a61b9-da32-4e2b-c73a-4eaa94b791a9",
        "colab": {
          "base_uri": "https://localhost:8080/",
          "height": 356
        }
      },
      "source": [
        "show_ae(autoencoder)"
      ],
      "execution_count": 0,
      "outputs": [
        {
          "output_type": "display_data",
          "data": {
            "image/png": "[encoded data removed]",
            "text/plain": [
              "<Figure size 1440x432 with 30 Axes>"
            ]
          },
          "metadata": {
            "tags": []
          }
        }
      ]
    },
    {
      "cell_type": "code",
      "metadata": {
        "id": "_tEKn0sYMZzo",
        "colab_type": "code",
        "outputId": "a6ace388-e8ea-40d1-9733-7194c7973ebd",
        "colab": {
          "base_uri": "https://localhost:8080/",
          "height": 289
        }
      },
      "source": [
        "!nvidia-smi"
      ],
      "execution_count": 0,
      "outputs": [
        {
          "output_type": "stream",
          "text": [
            "Sat May 25 17:17:44 2019       \n",
            "+-----------------------------------------------------------------------------+\n",
            "| NVIDIA-SMI 418.67       Driver Version: 410.79       CUDA Version: 10.0     |\n",
            "|-------------------------------+----------------------+----------------------+\n",
            "| GPU  Name        Persistence-M| Bus-Id        Disp.A | Volatile Uncorr. ECC |\n",
            "| Fan  Temp  Perf  Pwr:Usage/Cap|         Memory-Usage | GPU-Util  Compute M. |\n",
            "|===============================+======================+======================|\n",
            "|   0  Tesla T4            Off  | 00000000:00:04.0 Off |                    0 |\n",
            "| N/A   68C    P0    32W /  70W |    353MiB / 15079MiB |      0%      Default |\n",
            "+-------------------------------+----------------------+----------------------+\n",
            "                                                                               \n",
            "+-----------------------------------------------------------------------------+\n",
            "| Processes:                                                       GPU Memory |\n",
            "|  GPU       PID   Type   Process name                             Usage      |\n",
            "|=============================================================================|\n",
            "+-----------------------------------------------------------------------------+\n"
          ],
          "name": "stdout"
        }
      ]
    },
    {
      "cell_type": "code",
      "metadata": {
        "id": "C4Q31VJl_44K",
        "colab_type": "code",
        "colab": {}
      },
      "source": [
        "class LossHistory(Callback):\n",
        "    def __init__(self, model):\n",
        "        self.model = model\n",
        "        self.epoch = 0\n",
        "        self.train_losses = []\n",
        "        self.val_losses = []        \n",
        "\n",
        "    def on_epoch_end(self, batch, logs={}):\n",
        "        self.train_losses.append(logs.get('loss'))\n",
        "        self.val_losses.append(logs.get('val_loss'))\n",
        "        if self.epoch % 10 == 0:\n",
        "            print(\"epoch: {0} - train loss: {1:8.6f}, train accuracy: {2:8.6f} - val loss: {3:8.6f}, val accuracy: {4:8.6f}\".format(\n",
        "                self.epoch, \n",
        "                logs.get('loss'),\n",
        "                logs.get('accuracy'),\n",
        "                logs.get('val_loss'),\n",
        "                logs.get('val_accuracy'),                \n",
        "            ))\n",
        "#             mem_report()\n",
        "        self.epoch += 1"
      ],
      "execution_count": 0,
      "outputs": []
    }
  ]
}