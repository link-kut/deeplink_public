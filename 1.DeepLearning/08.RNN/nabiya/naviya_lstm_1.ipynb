{
 "cells": [
  {
   "cell_type": "markdown",
   "metadata": {},
   "source": [
    "# RNN을 이용한 창작 (작곡) - 1\n",
    "- https://tykimos.github.io/2017/04/09/RNN_Layer_Talk/"
   ]
  },
  {
   "cell_type": "markdown",
   "metadata": {},
   "source": [
    "## 0. 코딩환경준비"
   ]
  },
  {
   "cell_type": "markdown",
   "metadata": {},
   "source": [
    "conda create -n tf20 python==3.7 <br/>\n",
    "conda activate tf20 <br/>\n",
    "pip install jupyter <br/>\n",
    "pip install matplotlib <br/>\n",
    "pip install scipy <br/>\n",
    "pip install music21 <br/>\n",
    "pip install tensorflow==2.0.0-alpha0"
   ]
  },
  {
   "cell_type": "markdown",
   "metadata": {},
   "source": [
    "- Musescore2 다운로드 및 설치 \n",
    "  - https://musescore.org/ko/download#older-versions"
   ]
  },
  {
   "cell_type": "code",
   "execution_count": 1,
   "metadata": {},
   "outputs": [
    {
     "name": "stdout",
     "output_type": "stream",
     "text": [
      "2.0.0-alpha0\n"
     ]
    }
   ],
   "source": [
    "import tensorflow as tf\n",
    "print(tf.__version__)"
   ]
  },
  {
   "cell_type": "code",
   "execution_count": 2,
   "metadata": {},
   "outputs": [],
   "source": [
    "import tensorflow.keras as keras\n",
    "import numpy as np\n",
    "from tensorflow.keras.models import Sequential\n",
    "from tensorflow.keras.layers import Dense, LSTM\n",
    "import tensorflow.keras.utils as utils\n",
    "import os"
   ]
  },
  {
   "cell_type": "code",
   "execution_count": 3,
   "metadata": {},
   "outputs": [],
   "source": [
    "#http://web.mit.edu/music21/doc/usersGuide/usersGuide_08_installingMusicXML.html\n",
    "import music21"
   ]
  },
  {
   "cell_type": "markdown",
   "metadata": {},
   "source": [
    "## 1. 데이터 준비하기"
   ]
  },
  {
   "cell_type": "markdown",
   "metadata": {},
   "source": [
    "### 시퀀스 데이터 정의"
   ]
  },
  {
   "cell_type": "code",
   "execution_count": 4,
   "metadata": {},
   "outputs": [
    {
     "name": "stdout",
     "output_type": "stream",
     "text": [
      "length of seq: 54\n"
     ]
    }
   ],
   "source": [
    "seq = ['g8', 'e8', 'e4', 'f8', 'd8', 'd4', 'c8', 'd8', 'e8', 'f8', 'g8', 'g8', 'g4',\n",
    "       'g8', 'e8', 'e8', 'e8', 'f8', 'd8', 'd4', 'c8', 'e8', 'g8', 'g8', 'e8', 'e8', 'e4',\n",
    "       'd8', 'd8', 'd8', 'd8', 'd8', 'e8', 'f4', 'e8', 'e8', 'e8', 'e8', 'e8', 'f8', 'g4',\n",
    "       'g8', 'e8', 'e4', 'f8', 'd8', 'd4', 'c8', 'e8', 'g8', 'g8', 'e8', 'e8', 'e4']\n",
    "\n",
    "print(\"length of seq: {0}\".format(len(seq)))"
   ]
  },
  {
   "cell_type": "code",
   "execution_count": 5,
   "metadata": {},
   "outputs": [
    {
     "data": {
      "text/html": [
       "\n",
       "                <div id='midiPlayerDiv1007'></div>\n",
       "                <link rel=\"stylesheet\" href=\"//cuthbertLab.github.io/music21j/css/m21.css\"\n",
       "                    type=\"text/css\" />\n",
       "                <script>\n",
       "                require.config({\n",
       "                    paths: {'music21': '//cuthbertLab.github.io/music21j/src/music21'}\n",
       "                });\n",
       "                require(['music21'], function() {\n",
       "                               mp = new music21.miditools.MidiPlayer();\n",
       "                               mp.addPlayer('#midiPlayerDiv1007');\n",
       "                               mp.base64Load('data:audio/midi;base64,TVRoZAAAAAYAAQABBABNVHJrAAAB+wD/AwAA4ABAAP9YBAICGAgAkENahACAQwAAkEBahACAQAAAkEBaiACAQAAAkEFahACAQQAAkD5ahACAPgAAkD5aiACAPgAAkDxahACAPAAAkD5ahACAPgAAkEBahACAQAAAkEFahACAQQAAkENahACAQwAAkENahACAQwAAkENaiACAQwAAkENahACAQwAAkEBahACAQAAAkEBahACAQAAAkEBahACAQAAAkEFahACAQQAAkD5ahACAPgAAkD5aiACAPgAAkDxahACAPAAAkEBahACAQAAAkENahACAQwAAkENahACAQwAAkEBahACAQAAAkEBahACAQAAAkEBaiACAQAAAkD5ahACAPgAAkD5ahACAPgAAkD5ahACAPgAAkD5ahACAPgAAkD5ahACAPgAAkEBahACAQAAAkEFaiACAQQAAkEBahACAQAAAkEBahACAQAAAkEBahACAQAAAkEBahACAQAAAkEBahACAQAAAkEFahACAQQAAkENaiACAQwAAkENahACAQwAAkEBahACAQAAAkEBaiACAQAAAkEFahACAQQAAkD5ahACAPgAAkD5aiACAPgAAkDxahACAPAAAkEBahACAQAAAkENahACAQwAAkENahACAQwAAkEBahACAQAAAkEBahACAQAAAkEBaiACAQACIAP8vAA==');\n",
       "                        });\n",
       "                </script>"
      ],
      "text/plain": [
       "<IPython.core.display.HTML object>"
      ]
     },
     "metadata": {},
     "output_type": "display_data"
    }
   ],
   "source": [
    "note_seq = \"\"\n",
    "for note in seq:\n",
    "    note_seq += note + \" \"\n",
    "    \n",
    "m = music21.converter.parse(\"2/4 \" + note_seq, format='tinyNotation')\n",
    "\n",
    "m.show(\"midi\")"
   ]
  },
  {
   "cell_type": "code",
   "execution_count": 6,
   "metadata": {},
   "outputs": [
    {
     "data": {
      "image/png": "[encoded data removed]",
      "text/plain": [
       "<IPython.core.display.Image object>"
      ]
     },
     "metadata": {
      "image/png": {
       "height": 180,
       "width": 753
      }
     },
     "output_type": "display_data"
    }
   ],
   "source": [
    "m.show()"
   ]
  },
  {
   "cell_type": "markdown",
   "metadata": {},
   "source": [
    "### 코드 사전 정의"
   ]
  },
  {
   "cell_type": "code",
   "execution_count": 7,
   "metadata": {},
   "outputs": [],
   "source": [
    "code2idx = {'c4': 0, 'd4': 1, 'e4': 2, 'f4': 3, 'g4': 4, 'a4': 5, 'b4': 6,\n",
    "            'c8': 7, 'd8': 8, 'e8': 9, 'f8': 10, 'g8': 11, 'a8': 12, 'b8': 13}\n",
    "\n",
    "idx2code = {0: 'c4', 1: 'd4', 2: 'e4', 3: 'f4', 4: 'g4', 5: 'a4', 6: 'b4',\n",
    "            7: 'c8', 8: 'd8', 9: 'e8', 10: 'f8', 11: 'g8', 12: 'a8', 13: 'b8'}"
   ]
  },
  {
   "cell_type": "markdown",
   "metadata": {},
   "source": [
    "## 2. 데이터셋 생성하기"
   ]
  },
  {
   "cell_type": "markdown",
   "metadata": {},
   "source": [
    "### 데이터셋 생성 함수\n"
   ]
  },
  {
   "cell_type": "code",
   "execution_count": 8,
   "metadata": {},
   "outputs": [],
   "source": [
    "def seq2dataset(seq, window_size):\n",
    "    dataset = []\n",
    "    \n",
    "    for i in range(len(seq) - window_size):\n",
    "        subset = seq[i: (i + window_size + 1)]\n",
    "        dataset.append([code2idx[item] for item in subset])\n",
    "    return np.array(dataset)"
   ]
  },
  {
   "cell_type": "code",
   "execution_count": 9,
   "metadata": {},
   "outputs": [
    {
     "name": "stdout",
     "output_type": "stream",
     "text": [
      "[[ 0  1  2  3  4]\n",
      " [ 1  2  3  4  8]\n",
      " [ 2  3  4  8 13]]\n"
     ]
    }
   ],
   "source": [
    "test_seq = ['c4', 'd4', 'e4', 'f4', 'g4', 'd8', 'b8']\n",
    "dataset = seq2dataset(seq=test_seq, window_size=4)\n",
    "print(dataset)"
   ]
  },
  {
   "cell_type": "markdown",
   "metadata": {},
   "source": [
    "###  생성"
   ]
  },
  {
   "cell_type": "code",
   "execution_count": 10,
   "metadata": {},
   "outputs": [
    {
     "name": "stdout",
     "output_type": "stream",
     "text": [
      "dataset.shape: (50, 5)\n"
     ]
    }
   ],
   "source": [
    "n_steps = 4\n",
    "n_inputs = 1\n",
    "\n",
    "dataset = seq2dataset(seq, window_size=n_steps)\n",
    "\n",
    "print(\"dataset.shape: {0}\".format(dataset.shape))"
   ]
  },
  {
   "cell_type": "markdown",
   "metadata": {},
   "source": [
    "### 입력(X)과 출력(Y) 변수로 분리하기"
   ]
  },
  {
   "cell_type": "code",
   "execution_count": 11,
   "metadata": {},
   "outputs": [
    {
     "name": "stdout",
     "output_type": "stream",
     "text": [
      "x_train: (50, 4)\n",
      "y_train: (50,)\n",
      "[11  9  2 10]\n",
      "8\n"
     ]
    }
   ],
   "source": [
    "x_train = dataset[:, 0: n_steps]\n",
    "y_train = dataset[:, n_steps]\n",
    "print(\"x_train: {0}\".format(x_train.shape))\n",
    "print(\"y_train: {0}\".format(y_train.shape))\n",
    "print(x_train[0])\n",
    "print(y_train[0])"
   ]
  },
  {
   "cell_type": "code",
   "execution_count": 12,
   "metadata": {},
   "outputs": [
    {
     "name": "stdout",
     "output_type": "stream",
     "text": [
      "max_idx_value: 13\n"
     ]
    }
   ],
   "source": [
    "max_idx_value = len(code2idx) - 1\n",
    "\n",
    "print(\"max_idx_value: {0}\".format(max_idx_value))"
   ]
  },
  {
   "cell_type": "markdown",
   "metadata": {},
   "source": [
    "### 입력값 정규화 시키기"
   ]
  },
  {
   "cell_type": "code",
   "execution_count": 13,
   "metadata": {},
   "outputs": [],
   "source": [
    "x_train = x_train / float(max_idx_value)"
   ]
  },
  {
   "cell_type": "markdown",
   "metadata": {},
   "source": [
    "### 입력을 (샘플 수, 타입스텝, 특성 수)로 형태 변환"
   ]
  },
  {
   "cell_type": "code",
   "execution_count": 14,
   "metadata": {},
   "outputs": [],
   "source": [
    "x_train = np.reshape(x_train, (x_train.shape[0], x_train.shape[1], n_inputs))"
   ]
  },
  {
   "cell_type": "markdown",
   "metadata": {},
   "source": [
    "### 라벨값에 대한 one-hot 인코딩 수행"
   ]
  },
  {
   "cell_type": "code",
   "execution_count": 15,
   "metadata": {},
   "outputs": [],
   "source": [
    "y_train = utils.to_categorical(y_train)"
   ]
  },
  {
   "cell_type": "code",
   "execution_count": 16,
   "metadata": {},
   "outputs": [
    {
     "name": "stdout",
     "output_type": "stream",
     "text": [
      "one hot encoding vector size is 12\n",
      "After pre-processing\n",
      "x_train: (50, 4, 1)\n",
      "y_train: (50, 12)\n"
     ]
    }
   ],
   "source": [
    "one_hot_vec_size = y_train.shape[1]\n",
    "\n",
    "print(\"one hot encoding vector size is {0}\".format(one_hot_vec_size))\n",
    "print(\"After pre-processing\")\n",
    "print(\"x_train: {0}\".format(x_train.shape))\n",
    "print(\"y_train: {0}\".format(y_train.shape))"
   ]
  },
  {
   "cell_type": "markdown",
   "metadata": {},
   "source": [
    "## 3. 모델 구성하기"
   ]
  },
  {
   "cell_type": "code",
   "execution_count": 17,
   "metadata": {},
   "outputs": [],
   "source": [
    "model = Sequential()\n",
    "model.add(LSTM(\n",
    "    units=128,\n",
    "    kernel_initializer='glorot_normal',\n",
    "    bias_initializer='zero',\n",
    "    batch_input_shape=(1, n_steps, n_inputs), \n",
    "    stateful=True\n",
    "))\n",
    "model.add(Dense(\n",
    "    units=one_hot_vec_size, \n",
    "    kernel_initializer='glorot_normal',\n",
    "    bias_initializer='zero',    \n",
    "    activation='softmax'\n",
    "))"
   ]
  },
  {
   "cell_type": "markdown",
   "metadata": {},
   "source": [
    "## 4. 모델 학습과정 설정하기"
   ]
  },
  {
   "cell_type": "code",
   "execution_count": 18,
   "metadata": {},
   "outputs": [],
   "source": [
    "model.compile(\n",
    "    loss='categorical_crossentropy',\n",
    "    optimizer='adam',\n",
    "    metrics=['accuracy']\n",
    ")"
   ]
  },
  {
   "cell_type": "markdown",
   "metadata": {},
   "source": [
    "## 5. 모델 학습시키기"
   ]
  },
  {
   "cell_type": "markdown",
   "metadata": {},
   "source": [
    "### 손실 이력 클래스 정의"
   ]
  },
  {
   "cell_type": "code",
   "execution_count": 19,
   "metadata": {},
   "outputs": [],
   "source": [
    "class LossHistory(keras.callbacks.Callback):\n",
    "    def init(self):\n",
    "        self.epoch = 0\n",
    "        self.losses = []\n",
    "\n",
    "    def on_epoch_end(self, batch, logs={}):\n",
    "        self.losses.append(logs.get('loss'))\n",
    "        \n",
    "        if self.epoch % 100 == 0:\n",
    "            print(\"epoch: {0} - loss: {1:8.6f}\".format(self.epoch, logs.get('loss')))\n",
    "            \n",
    "        self.epoch += 1"
   ]
  },
  {
   "cell_type": "markdown",
   "metadata": {},
   "source": [
    "### 학습"
   ]
  },
  {
   "cell_type": "code",
   "execution_count": 20,
   "metadata": {},
   "outputs": [
    {
     "name": "stdout",
     "output_type": "stream",
     "text": [
      "epoch: 0 - loss: 2.421980\n",
      "epoch: 100 - loss: 1.248247\n",
      "epoch: 200 - loss: 0.175045\n",
      "epoch: 300 - loss: 0.075572\n",
      "epoch: 400 - loss: 0.000506\n",
      "epoch: 500 - loss: 0.000030\n",
      "epoch: 541 - loss: 0.000010\n"
     ]
    }
   ],
   "source": [
    "num_epochs = 1500\n",
    "history = LossHistory()  # 손실 이력 객체 생성\n",
    "\n",
    "history.init()\n",
    "\n",
    "for epoch_idx in range(num_epochs + 1):\n",
    "    model.fit(\n",
    "        x=x_train,\n",
    "        y=y_train,\n",
    "        epochs=1,\n",
    "        batch_size=1,\n",
    "        verbose=0,\n",
    "        shuffle=False,\n",
    "        callbacks=[history]\n",
    "    )\n",
    "    if history.losses[-1] < 1e-5:\n",
    "        print(\"epoch: {0} - loss: {1:8.6f}\".format(epoch_idx, history.losses[-1]))\n",
    "        model.reset_states()    \n",
    "        break\n",
    "    model.reset_states()"
   ]
  },
  {
   "cell_type": "markdown",
   "metadata": {},
   "source": [
    "## 6. 학습과정 살펴보기"
   ]
  },
  {
   "cell_type": "code",
   "execution_count": 21,
   "metadata": {},
   "outputs": [
    {
     "data": {
      "image/png": "[encoded data removed]",
      "text/plain": [
       "<Figure size 432x288 with 1 Axes>"
      ]
     },
     "metadata": {
      "needs_background": "light"
     },
     "output_type": "display_data"
    }
   ],
   "source": [
    "import matplotlib.pyplot as plt\n",
    "%matplotlib inline\n",
    "\n",
    "plt.plot(history.losses)\n",
    "plt.ylabel('loss')\n",
    "plt.xlabel('epoch')\n",
    "plt.legend(['train'], loc='upper right')\n",
    "plt.show()"
   ]
  },
  {
   "cell_type": "markdown",
   "metadata": {},
   "source": [
    "## 7. 모델 평가하기"
   ]
  },
  {
   "cell_type": "code",
   "execution_count": 22,
   "metadata": {},
   "outputs": [
    {
     "name": "stdout",
     "output_type": "stream",
     "text": [
      "50/50 [==============================] - 0s 2ms/sample - loss: 9.6750e-06 - accuracy: 1.0000\n",
      "accuracy: 100.0\n"
     ]
    }
   ],
   "source": [
    "scores = model.evaluate(x_train, y_train, batch_size=1)\n",
    "print(\"{0}: {1}\".format(model.metrics_names[1], scores[1]*100))\n",
    "model.reset_states()"
   ]
  },
  {
   "cell_type": "markdown",
   "metadata": {},
   "source": [
    "## 8. 모델 사용하기"
   ]
  },
  {
   "cell_type": "markdown",
   "metadata": {},
   "source": [
    "### 한 스텝 예측"
   ]
  },
  {
   "cell_type": "code",
   "execution_count": 23,
   "metadata": {},
   "outputs": [
    {
     "name": "stdout",
     "output_type": "stream",
     "text": [
      "one step prediction :  ['g8', 'e8', 'e4', 'f8', 'd8', 'd4', 'c8', 'd8', 'e8', 'f8', 'g8', 'g8', 'g4', 'g8', 'e8', 'e8', 'e8', 'f8', 'd8', 'd4', 'c8', 'e8', 'g8', 'g8', 'e8', 'e8', 'e4', 'd8', 'd8', 'd8', 'd8', 'd8', 'e8', 'f4', 'e8', 'e8', 'e8', 'e8', 'e8', 'f8', 'g4', 'g8', 'e8', 'e4', 'f8', 'd8', 'd4', 'c8', 'e8', 'g8', 'g8', 'e8', 'e8', 'e4']\n"
     ]
    }
   ],
   "source": [
    "pred_count = 50  # 최대 예측 개수 정의\n",
    "\n",
    "# 한 스텝 예측\n",
    "seq_out = ['g8', 'e8', 'e4', 'f8']\n",
    "pred_out = model.predict(x_train)\n",
    "\n",
    "for i in range(pred_count):\n",
    "    idx = np.argmax(pred_out[i])  # one-hot 인코딩을 인덱스 값으로 변환\n",
    "    seq_out.append(idx2code[idx])  # seq_out는 최종 악보이므로 인덱스 값을 코드로 변환하여 저장\n",
    "\n",
    "model.reset_states()\n",
    "\n",
    "print(\"one step prediction : \", seq_out)"
   ]
  },
  {
   "cell_type": "markdown",
   "metadata": {},
   "source": [
    "### 곡 전체 예측"
   ]
  },
  {
   "cell_type": "code",
   "execution_count": 24,
   "metadata": {},
   "outputs": [
    {
     "name": "stdout",
     "output_type": "stream",
     "text": [
      "full song prediction : \n",
      "g8 c8 f4 e8 d8 d4 c8 d8 e8 f8 g8 g8 g4 g8 e8 e8 e8 f8 d8 d4 c8 e8 g8 g8 e8 e8 e4 d8 d8 d8 d8 d8 e8 f4 e8 e8 e8 e8 e8 f8 g4 g8 e8 e4 f8 d8 d4 c8 e8 g8 g8 e8 e8 e4 "
     ]
    }
   ],
   "source": [
    "seq_in = ['g8', 'c8', 'f4', 'e8']\n",
    "seq_out = seq_in\n",
    "seq_in = [code2idx[note] / float(max_idx_value) for note in seq_in]  # 코드를 인덱스값으로 변환\n",
    "\n",
    "for i in range(pred_count):\n",
    "    sample_in = np.array(seq_in)\n",
    "    sample_in = np.reshape(sample_in, (1, n_steps, n_inputs))  # 샘플 수, 타입스텝 수, 속성 수\n",
    "    pred_out = model.predict(sample_in)\n",
    "    idx = np.argmax(pred_out)\n",
    "    seq_out.append(idx2code[idx])\n",
    "    seq_in.append(idx / float(max_idx_value))\n",
    "    seq_in.pop(0)\n",
    "\n",
    "model.reset_states()\n",
    "\n",
    "print(\"full song prediction : \")\n",
    "\n",
    "for note in seq_out:\n",
    "    print(note, end=\" \")"
   ]
  },
  {
   "cell_type": "code",
   "execution_count": 25,
   "metadata": {},
   "outputs": [
    {
     "data": {
      "text/html": [
       "\n",
       "                <div id='midiPlayerDiv3007'></div>\n",
       "                <link rel=\"stylesheet\" href=\"//cuthbertLab.github.io/music21j/css/m21.css\"\n",
       "                    type=\"text/css\" />\n",
       "                <script>\n",
       "                require.config({\n",
       "                    paths: {'music21': '//cuthbertLab.github.io/music21j/src/music21'}\n",
       "                });\n",
       "                require(['music21'], function() {\n",
       "                               mp = new music21.miditools.MidiPlayer();\n",
       "                               mp.addPlayer('#midiPlayerDiv3007');\n",
       "                               mp.base64Load('data:audio/midi;base64,TVRoZAAAAAYAAQABBABNVHJrAAAB+wD/AwAA4ABAAP9YBAICGAgAkENahACAQwAAkDxahACAPAAAkEFaiACAQQAAkEBahACAQAAAkD5ahACAPgAAkD5aiACAPgAAkDxahACAPAAAkD5ahACAPgAAkEBahACAQAAAkEFahACAQQAAkENahACAQwAAkENahACAQwAAkENaiACAQwAAkENahACAQwAAkEBahACAQAAAkEBahACAQAAAkEBahACAQAAAkEFahACAQQAAkD5ahACAPgAAkD5aiACAPgAAkDxahACAPAAAkEBahACAQAAAkENahACAQwAAkENahACAQwAAkEBahACAQAAAkEBahACAQAAAkEBaiACAQAAAkD5ahACAPgAAkD5ahACAPgAAkD5ahACAPgAAkD5ahACAPgAAkD5ahACAPgAAkEBahACAQAAAkEFaiACAQQAAkEBahACAQAAAkEBahACAQAAAkEBahACAQAAAkEBahACAQAAAkEBahACAQAAAkEFahACAQQAAkENaiACAQwAAkENahACAQwAAkEBahACAQAAAkEBaiACAQAAAkEFahACAQQAAkD5ahACAPgAAkD5aiACAPgAAkDxahACAPAAAkEBahACAQAAAkENahACAQwAAkENahACAQwAAkEBahACAQAAAkEBahACAQAAAkEBaiACAQACIAP8vAA==');\n",
       "                        });\n",
       "                </script>"
      ],
      "text/plain": [
       "<IPython.core.display.HTML object>"
      ]
     },
     "metadata": {},
     "output_type": "display_data"
    }
   ],
   "source": [
    "#http://web.mit.edu/music21/doc/usersGuide/usersGuide_08_installingMusicXML.html\n",
    "import music21\n",
    "\n",
    "note_seq = \"\"\n",
    "for note in seq_out:\n",
    "    note_seq += note + \" \"\n",
    "    \n",
    "conv_midi = music21.converter.subConverters.ConverterMidi()\n",
    "\n",
    "m = music21.converter.parse(\"2/4 \" + note_seq, format='tinyNotation')\n",
    "\n",
    "m.show(\"midi\")"
   ]
  },
  {
   "cell_type": "code",
   "execution_count": 26,
   "metadata": {},
   "outputs": [
    {
     "data": {
      "image/png": "[encoded data removed]",
      "text/plain": [
       "<IPython.core.display.Image object>"
      ]
     },
     "metadata": {
      "image/png": {
       "height": 180,
       "width": 753
      }
     },
     "output_type": "display_data"
    }
   ],
   "source": [
    "m.show()"
   ]
  },
  {
   "cell_type": "code",
   "execution_count": 27,
   "metadata": {},
   "outputs": [
    {
     "data": {
      "text/plain": [
       "'./new_music.mid'"
      ]
     },
     "execution_count": 27,
     "metadata": {},
     "output_type": "execute_result"
    }
   ],
   "source": [
    "m.write(\"midi\", fp=\"./new_music.mid\")"
   ]
  }
 ],
 "metadata": {
  "kernelspec": {
   "display_name": "Python 3",
   "language": "python",
   "name": "python3"
  },
  "language_info": {
   "codemirror_mode": {
    "name": "ipython",
    "version": 3
   },
   "file_extension": ".py",
   "mimetype": "text/x-python",
   "name": "python",
   "nbconvert_exporter": "python",
   "pygments_lexer": "ipython3",
   "version": "3.7.0"
  }
 },
 "nbformat": 4,
 "nbformat_minor": 2
}
