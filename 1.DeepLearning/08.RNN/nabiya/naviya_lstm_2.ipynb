{
 "cells": [
  {
   "cell_type": "markdown",
   "metadata": {},
   "source": [
    "# RNN을 이용한 창작 (작곡) - 2\n",
    "- https://tykimos.github.io/2017/04/09/RNN_Layer_Talk/"
   ]
  },
  {
   "cell_type": "markdown",
   "metadata": {},
   "source": [
    "## 0. 코딩환경준비"
   ]
  },
  {
   "cell_type": "markdown",
   "metadata": {},
   "source": [
    "conda create -n tf20 python==3.7 <br/>\n",
    "conda activate tf20 <br/>\n",
    "pip install jupyter <br/>\n",
    "pip install matplotlib <br/>\n",
    "pip install scipy <br/>\n",
    "pip install music21 <br/>\n",
    "pip install tensorflow==2.0.0-alpha0"
   ]
  },
  {
   "cell_type": "markdown",
   "metadata": {},
   "source": [
    "- Musescore2 다운로드 및 설치 \n",
    "  - https://musescore.org/ko/download#older-versions"
   ]
  },
  {
   "cell_type": "code",
   "execution_count": 1,
   "metadata": {},
   "outputs": [
    {
     "name": "stdout",
     "output_type": "stream",
     "text": [
      "2.0.0-alpha0\n"
     ]
    }
   ],
   "source": [
    "import tensorflow as tf\n",
    "print(tf.__version__)"
   ]
  },
  {
   "cell_type": "code",
   "execution_count": 2,
   "metadata": {},
   "outputs": [],
   "source": [
    "import tensorflow.keras as keras\n",
    "import numpy as np\n",
    "from tensorflow.keras.models import Sequential\n",
    "from tensorflow.keras.layers import Dense, LSTM\n",
    "import tensorflow.keras.utils as utils\n",
    "import os"
   ]
  },
  {
   "cell_type": "code",
   "execution_count": 3,
   "metadata": {},
   "outputs": [],
   "source": [
    "#http://web.mit.edu/music21/doc/usersGuide/usersGuide_08_installingMusicXML.html\n",
    "import music21"
   ]
  },
  {
   "cell_type": "markdown",
   "metadata": {},
   "source": [
    "## 1. 데이터 준비하기"
   ]
  },
  {
   "cell_type": "markdown",
   "metadata": {},
   "source": [
    "### 시퀀스 데이터 정의"
   ]
  },
  {
   "cell_type": "code",
   "execution_count": 4,
   "metadata": {},
   "outputs": [
    {
     "name": "stdout",
     "output_type": "stream",
     "text": [
      "length of seq: 54\n"
     ]
    }
   ],
   "source": [
    "seq = ['g8', 'e8', 'e4', 'f8', 'd8', 'd4', 'c8', 'd8', 'e8', 'f8', 'g8', 'g8', 'g4',\n",
    "       'g8', 'e8', 'e8', 'e8', 'f8', 'd8', 'd4', 'c8', 'e8', 'g8', 'g8', 'e8', 'e8', 'e4',\n",
    "       'd8', 'd8', 'd8', 'd8', 'd8', 'e8', 'f4', 'e8', 'e8', 'e8', 'e8', 'e8', 'f8', 'g4',\n",
    "       'g8', 'e8', 'e4', 'f8', 'd8', 'd4', 'c8', 'e8', 'g8', 'g8', 'e8', 'e8', 'e4']\n",
    "\n",
    "print(\"length of seq: {0}\".format(len(seq)))"
   ]
  },
  {
   "cell_type": "code",
   "execution_count": 5,
   "metadata": {},
   "outputs": [
    {
     "data": {
      "text/html": [
       "\n",
       "                <div id='midiPlayerDiv1007'></div>\n",
       "                <link rel=\"stylesheet\" href=\"//cuthbertLab.github.io/music21j/css/m21.css\"\n",
       "                    type=\"text/css\" />\n",
       "                <script>\n",
       "                require.config({\n",
       "                    paths: {'music21': '//cuthbertLab.github.io/music21j/src/music21'}\n",
       "                });\n",
       "                require(['music21'], function() {\n",
       "                               mp = new music21.miditools.MidiPlayer();\n",
       "                               mp.addPlayer('#midiPlayerDiv1007');\n",
       "                               mp.base64Load('data:audio/midi;base64,TVRoZAAAAAYAAQABBABNVHJrAAAB+wD/AwAA4ABAAP9YBAICGAgAkENahACAQwAAkEBahACAQAAAkEBaiACAQAAAkEFahACAQQAAkD5ahACAPgAAkD5aiACAPgAAkDxahACAPAAAkD5ahACAPgAAkEBahACAQAAAkEFahACAQQAAkENahACAQwAAkENahACAQwAAkENaiACAQwAAkENahACAQwAAkEBahACAQAAAkEBahACAQAAAkEBahACAQAAAkEFahACAQQAAkD5ahACAPgAAkD5aiACAPgAAkDxahACAPAAAkEBahACAQAAAkENahACAQwAAkENahACAQwAAkEBahACAQAAAkEBahACAQAAAkEBaiACAQAAAkD5ahACAPgAAkD5ahACAPgAAkD5ahACAPgAAkD5ahACAPgAAkD5ahACAPgAAkEBahACAQAAAkEFaiACAQQAAkEBahACAQAAAkEBahACAQAAAkEBahACAQAAAkEBahACAQAAAkEBahACAQAAAkEFahACAQQAAkENaiACAQwAAkENahACAQwAAkEBahACAQAAAkEBaiACAQAAAkEFahACAQQAAkD5ahACAPgAAkD5aiACAPgAAkDxahACAPAAAkEBahACAQAAAkENahACAQwAAkENahACAQwAAkEBahACAQAAAkEBahACAQAAAkEBaiACAQACIAP8vAA==');\n",
       "                        });\n",
       "                </script>"
      ],
      "text/plain": [
       "<IPython.core.display.HTML object>"
      ]
     },
     "metadata": {},
     "output_type": "display_data"
    }
   ],
   "source": [
    "note_seq = \"\"\n",
    "for note in seq:\n",
    "    note_seq += note + \" \"\n",
    "    \n",
    "m = music21.converter.parse(\"2/4 \" + note_seq, format='tinyNotation')\n",
    "\n",
    "m.show(\"midi\")"
   ]
  },
  {
   "cell_type": "code",
   "execution_count": 6,
   "metadata": {},
   "outputs": [
    {
     "data": {
      "image/png": "[encoded data removed]",
      "text/plain": [
       "<IPython.core.display.Image object>"
      ]
     },
     "metadata": {
      "image/png": {
       "height": 180,
       "width": 753
      }
     },
     "output_type": "display_data"
    }
   ],
   "source": [
    "m.show()"
   ]
  },
  {
   "cell_type": "markdown",
   "metadata": {},
   "source": [
    "### 코드 사전 정의"
   ]
  },
  {
   "cell_type": "code",
   "execution_count": 7,
   "metadata": {},
   "outputs": [],
   "source": [
    "code2idx = {'c4': 0, 'd4': 1, 'e4': 2, 'f4': 3, 'g4': 4, 'a4': 5, 'b4': 6,\n",
    "            'c8': 7, 'd8': 8, 'e8': 9, 'f8': 10, 'g8': 11, 'a8': 12, 'b8': 13}\n",
    "\n",
    "idx2code = {0: 'c4', 1: 'd4', 2: 'e4', 3: 'f4', 4: 'g4', 5: 'a4', 6: 'b4',\n",
    "            7: 'c8', 8: 'd8', 9: 'e8', 10: 'f8', 11: 'g8', 12: 'a8', 13: 'b8'}"
   ]
  },
  {
   "cell_type": "code",
   "execution_count": 8,
   "metadata": {},
   "outputs": [],
   "source": [
    "code2scale = {'c': 0, 'd': 1, 'e': 2, 'f': 3, 'g': 4, 'a': 5, 'b': 6}\n",
    "\n",
    "code2length = {'4': 0, '8': 1}"
   ]
  },
  {
   "cell_type": "markdown",
   "metadata": {},
   "source": [
    "## 2. 데이터셋 생성하기"
   ]
  },
  {
   "cell_type": "markdown",
   "metadata": {},
   "source": [
    "### 속성 변환 함수"
   ]
  },
  {
   "cell_type": "code",
   "execution_count": 9,
   "metadata": {},
   "outputs": [
    {
     "name": "stdout",
     "output_type": "stream",
     "text": [
      "6\n"
     ]
    }
   ],
   "source": [
    "max_scale_value = len(code2scale) - 1\n",
    "print(max_scale_value)\n",
    "def code2features(code):\n",
    "    \"\"\" \n",
    "        'c4' --> ['c', '4'] --> [0, 0] --> [0/6, 0/6] --> [0, 0]\n",
    "        'd4' --> ['d', '4'] --> [1, 0] --> [1/6, 0/6] --> [0.16666, 0]\n",
    "        'a8' --> ['a', '8'] --> [5, 1] --> [5/6, 1/6] --> [0.83333, 0.16666]\n",
    "    \"\"\"\n",
    "    features = []\n",
    "    features.append(code2scale[code[0]] / float(max_scale_value))\n",
    "    features.append(code2length[code[1]])\n",
    "    return features"
   ]
  },
  {
   "cell_type": "markdown",
   "metadata": {},
   "source": [
    "### 데이터셋 생성 함수\n"
   ]
  },
  {
   "cell_type": "code",
   "execution_count": 10,
   "metadata": {},
   "outputs": [],
   "source": [
    "def seq2dataset(seq, window_size):\n",
    "    dataset_X = []\n",
    "    dataset_Y = []\n",
    "\n",
    "    for i in range(len(seq) - window_size):\n",
    "        subset = seq[i: (i + window_size + 1)]\n",
    "\n",
    "        for si in range(len(subset) - 1):\n",
    "            features = code2features(subset[si])\n",
    "            dataset_X.append(features)\n",
    "\n",
    "        dataset_Y.append([code2idx[subset[window_size]]])\n",
    "\n",
    "    return np.array(dataset_X), np.array(dataset_Y)"
   ]
  },
  {
   "cell_type": "code",
   "execution_count": 11,
   "metadata": {},
   "outputs": [
    {
     "name": "stdout",
     "output_type": "stream",
     "text": [
      "[[0.         0.        ]\n",
      " [0.16666667 0.        ]\n",
      " [0.33333333 0.        ]\n",
      " [0.5        0.        ]\n",
      " [0.16666667 0.        ]\n",
      " [0.33333333 0.        ]\n",
      " [0.5        0.        ]\n",
      " [0.66666667 0.        ]]\n",
      "[[4]\n",
      " [8]]\n"
     ]
    }
   ],
   "source": [
    "test_seq = ['c4', 'd4', 'e4', 'f4', 'g4', 'd8']\n",
    "x, y = seq2dataset(seq=test_seq, window_size=4)\n",
    "print(x)\n",
    "print(y)"
   ]
  },
  {
   "cell_type": "markdown",
   "metadata": {},
   "source": [
    "###  생성"
   ]
  },
  {
   "cell_type": "code",
   "execution_count": 12,
   "metadata": {},
   "outputs": [
    {
     "name": "stdout",
     "output_type": "stream",
     "text": [
      "x_train: (200, 2)\n",
      "y_train: (50, 1)\n"
     ]
    }
   ],
   "source": [
    "n_steps = 4\n",
    "n_inputs = 2\n",
    "\n",
    "x_train, y_train = seq2dataset(seq=seq, window_size=n_steps)\n",
    "print(\"x_train: {0}\".format(x_train.shape))\n",
    "print(\"y_train: {0}\".format(y_train.shape))"
   ]
  },
  {
   "cell_type": "markdown",
   "metadata": {},
   "source": [
    "### 입력을 (샘플 수, 타임스텝, 특성 수)로 형태 변환"
   ]
  },
  {
   "cell_type": "code",
   "execution_count": 13,
   "metadata": {},
   "outputs": [],
   "source": [
    "# 입력을 (샘플 수, 타임스텝, 특성 수)로 형태 변환\n",
    "x_train = np.reshape(x_train, (50, n_steps, n_inputs))"
   ]
  },
  {
   "cell_type": "markdown",
   "metadata": {},
   "source": [
    "### 라벨값에 대한 one-hot 인코딩 수행"
   ]
  },
  {
   "cell_type": "code",
   "execution_count": 14,
   "metadata": {},
   "outputs": [
    {
     "name": "stdout",
     "output_type": "stream",
     "text": [
      "one hot encoding vector size is  12\n",
      "After pre-processing\n",
      "x_train: (50, 4, 2)\n",
      "y_train: (50, 12)\n",
      "[[0.66666667 1.        ]\n",
      " [0.33333333 1.        ]\n",
      " [0.33333333 0.        ]\n",
      " [0.5        1.        ]]\n",
      "[0. 0. 0. 0. 0. 0. 0. 0. 1. 0. 0. 0.]\n"
     ]
    }
   ],
   "source": [
    "y_train = utils.to_categorical(y_train)\n",
    "one_hot_vec_size = y_train.shape[1]\n",
    "\n",
    "print(\"one hot encoding vector size is \", one_hot_vec_size)\n",
    "print(\"After pre-processing\")\n",
    "print(\"x_train: {0}\".format(x_train.shape))\n",
    "print(\"y_train: {0}\".format(y_train.shape))\n",
    "print(x_train[0])\n",
    "print(y_train[0])"
   ]
  },
  {
   "cell_type": "markdown",
   "metadata": {},
   "source": [
    "## 3. 모델 구성하기"
   ]
  },
  {
   "cell_type": "code",
   "execution_count": 15,
   "metadata": {},
   "outputs": [
    {
     "name": "stdout",
     "output_type": "stream",
     "text": [
      "Model: \"sequential\"\n",
      "_________________________________________________________________\n",
      "Layer (type)                 Output Shape              Param #   \n",
      "=================================================================\n",
      "lstm (UnifiedLSTM)           (1, 128)                  67072     \n",
      "_________________________________________________________________\n",
      "dense (Dense)                (1, 12)                   1548      \n",
      "=================================================================\n",
      "Total params: 68,620\n",
      "Trainable params: 68,620\n",
      "Non-trainable params: 0\n",
      "_________________________________________________________________\n"
     ]
    }
   ],
   "source": [
    "model = Sequential()\n",
    "model.add(LSTM(\n",
    "    units=128,\n",
    "    kernel_initializer='glorot_normal',\n",
    "    bias_initializer='zero',\n",
    "    batch_input_shape=(1, n_steps, n_inputs), \n",
    "    stateful=True,\n",
    "    name=\"lstm\"\n",
    "))\n",
    "model.add(Dense(\n",
    "    units=one_hot_vec_size, \n",
    "    kernel_initializer='glorot_normal',\n",
    "    bias_initializer='zero',    \n",
    "    activation='softmax',\n",
    "    name=\"dense\"\n",
    "))\n",
    "\n",
    "model.summary()"
   ]
  },
  {
   "cell_type": "markdown",
   "metadata": {},
   "source": [
    "## 4. 모델 학습과정 설정하기"
   ]
  },
  {
   "cell_type": "code",
   "execution_count": 16,
   "metadata": {},
   "outputs": [],
   "source": [
    "model.compile(\n",
    "    loss='categorical_crossentropy',\n",
    "    optimizer='adam',\n",
    "    metrics=['accuracy']\n",
    ")"
   ]
  },
  {
   "cell_type": "markdown",
   "metadata": {},
   "source": [
    "## 5. 모델 학습시키기"
   ]
  },
  {
   "cell_type": "markdown",
   "metadata": {},
   "source": [
    "### 손실 이력 클래스 정의"
   ]
  },
  {
   "cell_type": "code",
   "execution_count": 17,
   "metadata": {},
   "outputs": [],
   "source": [
    "class LossHistory(keras.callbacks.Callback):\n",
    "    def init(self):\n",
    "        self.epoch = 0\n",
    "        self.losses = []\n",
    "\n",
    "    def on_epoch_end(self, batch, logs={}):\n",
    "        self.losses.append(logs.get('loss'))\n",
    "        \n",
    "        if self.epoch % 100 == 0:\n",
    "            print(\"epoch: {0} - loss: {1:8.6f}\".format(self.epoch, logs.get('loss')))\n",
    "            \n",
    "        self.epoch += 1            "
   ]
  },
  {
   "cell_type": "markdown",
   "metadata": {},
   "source": [
    "### 학습"
   ]
  },
  {
   "cell_type": "code",
   "execution_count": 18,
   "metadata": {},
   "outputs": [
    {
     "name": "stdout",
     "output_type": "stream",
     "text": [
      "epoch: 0 - loss: 2.348783\n",
      "epoch: 100 - loss: 0.495216\n",
      "epoch: 200 - loss: 0.003327\n",
      "epoch: 300 - loss: 0.000147\n",
      "epoch: 395 - loss: 0.000010\n"
     ]
    }
   ],
   "source": [
    "num_epochs = 1500\n",
    "history = LossHistory()  # 손실 이력 객체 생성\n",
    "\n",
    "history.init()\n",
    "\n",
    "for epoch_idx in range(num_epochs + 1):\n",
    "    model.fit(\n",
    "        x=x_train,\n",
    "        y=y_train,\n",
    "        epochs=1,\n",
    "        batch_size=1,\n",
    "        verbose=0,\n",
    "        shuffle=False,\n",
    "        callbacks=[history]\n",
    "    )\n",
    "    if history.losses[-1] < 1e-5:\n",
    "        print(\"epoch: {0} - loss: {1:8.6f}\".format(epoch_idx, history.losses[-1]))\n",
    "        model.reset_states()    \n",
    "        break    \n",
    "    model.reset_states()"
   ]
  },
  {
   "cell_type": "markdown",
   "metadata": {},
   "source": [
    "## 6. 학습과정 살펴보기"
   ]
  },
  {
   "cell_type": "code",
   "execution_count": 26,
   "metadata": {},
   "outputs": [
    {
     "data": {
      "image/png": "[encoded data removed]",
      "text/plain": [
       "<Figure size 432x288 with 1 Axes>"
      ]
     },
     "metadata": {
      "needs_background": "light"
     },
     "output_type": "display_data"
    }
   ],
   "source": [
    "import matplotlib.pyplot as plt\n",
    "%matplotlib inline\n",
    "\n",
    "plt.plot(history.losses)\n",
    "plt.ylabel('loss')\n",
    "plt.xlabel('epoch')\n",
    "plt.legend(['train'], loc='upper right')\n",
    "plt.show()"
   ]
  },
  {
   "cell_type": "markdown",
   "metadata": {},
   "source": [
    "## 7. 모델 평가하기"
   ]
  },
  {
   "cell_type": "code",
   "execution_count": 27,
   "metadata": {},
   "outputs": [
    {
     "name": "stdout",
     "output_type": "stream",
     "text": [
      "50/50 [==============================] - 0s 844us/sample - loss: 9.6249e-06 - accuracy: 1.0000\n",
      "accuracy: 100.0\n"
     ]
    }
   ],
   "source": [
    "scores = model.evaluate(x_train, y_train, batch_size=1)\n",
    "print(\"{0}: {1}\".format(model.metrics_names[1], scores[1]*100))\n",
    "model.reset_states()"
   ]
  },
  {
   "cell_type": "markdown",
   "metadata": {},
   "source": [
    "## 8. 모델 사용하기"
   ]
  },
  {
   "cell_type": "markdown",
   "metadata": {},
   "source": [
    "### 한 스텝 예측"
   ]
  },
  {
   "cell_type": "code",
   "execution_count": 28,
   "metadata": {},
   "outputs": [
    {
     "name": "stdout",
     "output_type": "stream",
     "text": [
      "one step prediction :  ['g8', 'e8', 'e4', 'f8', 'd8', 'd4', 'c8', 'd8', 'e8', 'f8', 'g8', 'g8', 'g4', 'g8', 'e8', 'e8', 'e8', 'f8', 'd8', 'd4', 'c8', 'e8', 'g8', 'g8', 'e8', 'e8', 'e4', 'd8', 'd8', 'd8', 'd8', 'd8', 'e8', 'f4', 'e8', 'e8', 'e8', 'e8', 'e8', 'f8', 'g4', 'g8', 'e8', 'e4', 'f8', 'd8', 'd4', 'c8', 'e8', 'g8', 'g8', 'e8', 'e8', 'e4']\n"
     ]
    }
   ],
   "source": [
    "pred_count = 50  # 최대 예측 개수 정의\n",
    "\n",
    "# 한 스텝 예측\n",
    "seq_out = ['g8', 'e8', 'e4', 'f8']\n",
    "pred_out = model.predict(x_train)\n",
    "\n",
    "for i in range(pred_count):\n",
    "    idx = np.argmax(pred_out[i])  # one-hot 인코딩을 인덱스 값으로 변환\n",
    "    seq_out.append(idx2code[idx])  # seq_out는 최종 악보이므로 인덱스 값을 코드로 변환하여 저장\n",
    "\n",
    "model.reset_states()\n",
    "\n",
    "print(\"one step prediction : \", seq_out)"
   ]
  },
  {
   "cell_type": "markdown",
   "metadata": {},
   "source": [
    "### 곡 전체 예측"
   ]
  },
  {
   "cell_type": "code",
   "execution_count": 29,
   "metadata": {},
   "outputs": [
    {
     "name": "stdout",
     "output_type": "stream",
     "text": [
      "full song prediction:  ['f8', 'c8', 'd8', 'e4', 'd8', 'd4', 'c8', 'd8', 'g8', 'g8', 'g8', 'g4', 'g8', 'e8', 'e8', 'e8', 'f8', 'd8', 'd4', 'c8', 'e8', 'g8', 'g8', 'e8', 'e8', 'e4', 'd8', 'd8', 'd8', 'd8', 'd8', 'e8', 'f4', 'e8', 'e8', 'e8', 'e8', 'e8', 'f8', 'g4', 'g8', 'e8', 'e4', 'f8', 'd8', 'd4', 'c8', 'e8', 'g8', 'g8', 'e8', 'e8', 'e4', 'd8']\n"
     ]
    }
   ],
   "source": [
    "#seq_in = ['g8', 'e8', 'e4', 'f8']\n",
    "seq_in = ['f8', 'c8', 'd8', 'e4']\n",
    "seq_out = seq_in\n",
    "\n",
    "seq_in_featrues = []\n",
    "\n",
    "for si in seq_in:\n",
    "    features = code2features(si)\n",
    "    seq_in_featrues.append(features)\n",
    "\n",
    "for i in range(pred_count):\n",
    "    sample_in = np.array(seq_in_featrues)\n",
    "    sample_in = np.reshape(sample_in, (1, n_steps, n_inputs))  # 샘플 수, 타입스텝 수, 속성 수\n",
    "    pred_out = model.predict(sample_in)\n",
    "    idx = np.argmax(pred_out)\n",
    "    seq_out.append(idx2code[idx])\n",
    "\n",
    "    features = code2features(idx2code[idx])\n",
    "    seq_in_featrues.append(features)\n",
    "    seq_in_featrues.pop(0)\n",
    "\n",
    "model.reset_states()\n",
    "    \n",
    "print(\"full song prediction: \", seq_out)"
   ]
  },
  {
   "cell_type": "code",
   "execution_count": 32,
   "metadata": {},
   "outputs": [
    {
     "data": {
      "text/html": [
       "\n",
       "                <div id='midiPlayerDiv7593'></div>\n",
       "                <link rel=\"stylesheet\" href=\"//cuthbertLab.github.io/music21j/css/m21.css\"\n",
       "                    type=\"text/css\" />\n",
       "                <script>\n",
       "                require.config({\n",
       "                    paths: {'music21': '//cuthbertLab.github.io/music21j/src/music21'}\n",
       "                });\n",
       "                require(['music21'], function() {\n",
       "                               mp = new music21.miditools.MidiPlayer();\n",
       "                               mp.addPlayer('#midiPlayerDiv7593');\n",
       "                               mp.base64Load('data:audio/midi;base64,TVRoZAAAAAYAAQABBABNVHJrAAAB+wD/AwAA4ABAAP9YBAICGAgAkEFahACAQQAAkDxahACAPAAAkD5ahACAPgAAkEBaiACAQAAAkD5ahACAPgAAkD5aiACAPgAAkDxahACAPAAAkD5ahACAPgAAkENahACAQwAAkENahACAQwAAkENahACAQwAAkENaiACAQwAAkENahACAQwAAkEBahACAQAAAkEBahACAQAAAkEBahACAQAAAkEFahACAQQAAkD5ahACAPgAAkD5aiACAPgAAkDxahACAPAAAkEBahACAQAAAkENahACAQwAAkENahACAQwAAkEBahACAQAAAkEBahACAQAAAkEBaiACAQAAAkD5ahACAPgAAkD5ahACAPgAAkD5ahACAPgAAkD5ahACAPgAAkD5ahACAPgAAkEBahACAQAAAkEFaiACAQQAAkEBahACAQAAAkEBahACAQAAAkEBahACAQAAAkEBahACAQAAAkEBahACAQAAAkEFahACAQQAAkENaiACAQwAAkENahACAQwAAkEBahACAQAAAkEBaiACAQAAAkEFahACAQQAAkD5ahACAPgAAkD5aiACAPgAAkDxahACAPAAAkEBahACAQAAAkENahACAQwAAkENahACAQwAAkEBahACAQAAAkEBahACAQAAAkEBaiACAQAAAkD5ahACAPgCIAP8vAA==');\n",
       "                        });\n",
       "                </script>"
      ],
      "text/plain": [
       "<IPython.core.display.HTML object>"
      ]
     },
     "metadata": {},
     "output_type": "display_data"
    }
   ],
   "source": [
    "note_seq = \"\"\n",
    "for note in seq_out:\n",
    "    note_seq += note + \" \"\n",
    "    \n",
    "m = music21.converter.parse(\"2/4 \" + note_seq, format='tinyNotation')\n",
    "\n",
    "m.show(\"midi\")"
   ]
  },
  {
   "cell_type": "code",
   "execution_count": 33,
   "metadata": {},
   "outputs": [
    {
     "data": {
      "image/png": "[encoded data removed]",
      "text/plain": [
       "<IPython.core.display.Image object>"
      ]
     },
     "metadata": {
      "image/png": {
       "height": 180,
       "width": 753
      }
     },
     "output_type": "display_data"
    }
   ],
   "source": [
    "m.show()"
   ]
  },
  {
   "cell_type": "code",
   "execution_count": 34,
   "metadata": {},
   "outputs": [
    {
     "data": {
      "text/plain": [
       "'./new_music_2.mid'"
      ]
     },
     "execution_count": 34,
     "metadata": {},
     "output_type": "execute_result"
    }
   ],
   "source": [
    "m.write(\"midi\", fp=\"./new_music_2.mid\")"
   ]
  },
  {
   "cell_type": "code",
   "execution_count": null,
   "metadata": {},
   "outputs": [],
   "source": []
  }
 ],
 "metadata": {
  "kernelspec": {
   "display_name": "Python 3",
   "language": "python",
   "name": "python3"
  },
  "language_info": {
   "codemirror_mode": {
    "name": "ipython",
    "version": 3
   },
   "file_extension": ".py",
   "mimetype": "text/x-python",
   "name": "python",
   "nbconvert_exporter": "python",
   "pygments_lexer": "ipython3",
   "version": "3.7.0"
  }
 },
 "nbformat": 4,
 "nbformat_minor": 2
}
