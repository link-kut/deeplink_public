{
 "cells": [
  {
   "cell_type": "code",
   "execution_count": 6,
   "metadata": {},
   "outputs": [],
   "source": [
    "%matplotlib inline\n",
    "from matplotlib import pyplot as plt \n",
    "import mxnet as mx\n",
    "from IPython import display\n",
    "from mxnet import nd\n",
    "import numpy as np"
   ]
  },
  {
   "cell_type": "code",
   "execution_count": 7,
   "metadata": {},
   "outputs": [],
   "source": [
    "mnist = mx.test_utils.get_mnist()"
   ]
  },
  {
   "cell_type": "code",
   "execution_count": 9,
   "metadata": {},
   "outputs": [],
   "source": [
    "X_train_ = mnist[\"train_data\"]\n",
    "y_train = mnist[\"train_label\"]\n",
    "X_test_ = mnist[\"test_data\"]\n",
    "y_test = mnist[\"test_label\"]"
   ]
  },
  {
   "cell_type": "code",
   "execution_count": 13,
   "metadata": {},
   "outputs": [
    {
     "name": "stdout",
     "output_type": "stream",
     "text": [
      "X_train_.shape: (60000, 1, 28, 28)\n",
      "y_train.shape: (60000,)\n",
      "X_test_.shape: (10000, 1, 28, 28)\n",
      "y_test.shape: (10000,)\n"
     ]
    }
   ],
   "source": [
    "print(\"X_train_.shape: {0}\".format(X_train_.shape))\n",
    "print(\"y_train.shape: {0}\".format(y_train.shape))\n",
    "print(\"X_test_.shape: {0}\".format(X_test_.shape))\n",
    "print(\"y_test.shape: {0}\".format(y_test.shape))"
   ]
  },
  {
   "cell_type": "code",
   "execution_count": 14,
   "metadata": {},
   "outputs": [],
   "source": [
    "X_train = X_train_.reshape(60000, -1)\n",
    "X_test = X_test_.reshape(10000, -1)"
   ]
  },
  {
   "cell_type": "code",
   "execution_count": 15,
   "metadata": {},
   "outputs": [
    {
     "name": "stdout",
     "output_type": "stream",
     "text": [
      "X_train.shape: (60000, 784)\n",
      "y_train.shape: (60000,)\n",
      "X_test.shape: (10000, 784)\n",
      "y_test.shape: (10000,)\n"
     ]
    }
   ],
   "source": [
    "print(\"X_train.shape: {0}\".format(X_train.shape))\n",
    "print(\"y_train.shape: {0}\".format(y_train.shape))\n",
    "print(\"X_test.shape: {0}\".format(X_test.shape))\n",
    "print(\"y_test.shape: {0}\".format(y_test.shape))"
   ]
  },
  {
   "cell_type": "code",
   "execution_count": 16,
   "metadata": {},
   "outputs": [],
   "source": [
    "from sklearn.naive_bayes import BernoulliNB, MultinomialNB, GaussianNB\n",
    "import numpy as np"
   ]
  },
  {
   "cell_type": "code",
   "execution_count": 20,
   "metadata": {},
   "outputs": [],
   "source": [
    "models = {}\n",
    "models[\"BernoulliNB\"] = BernoulliNB()\n",
    "models[\"MultinomialNB\"] = MultinomialNB()\n",
    "models[\"GaussianNB\"] = GaussianNB()"
   ]
  },
  {
   "cell_type": "code",
   "execution_count": 23,
   "metadata": {},
   "outputs": [
    {
     "name": "stdout",
     "output_type": "stream",
     "text": [
      "BernoulliNB: Score - 0.8413\n",
      "MultinomialNB: Score - 0.8357\n",
      "GaussianNB: Score - 0.5558\n"
     ]
    }
   ],
   "source": [
    "for name, model in models.items():\n",
    "    model.fit(X_train, y_train)\n",
    "    print(\"{0}: Score - {1}\".format(name, model.score(X_test, y_test)))"
   ]
  }
 ],
 "metadata": {
  "kernelspec": {
   "display_name": "Python 3",
   "language": "python",
   "name": "python3"
  },
  "language_info": {
   "codemirror_mode": {
    "name": "ipython",
    "version": 3
   },
   "file_extension": ".py",
   "mimetype": "text/x-python",
   "name": "python",
   "nbconvert_exporter": "python",
   "pygments_lexer": "ipython3",
   "version": "3.6.4"
  }
 },
 "nbformat": 4,
 "nbformat_minor": 2
}
