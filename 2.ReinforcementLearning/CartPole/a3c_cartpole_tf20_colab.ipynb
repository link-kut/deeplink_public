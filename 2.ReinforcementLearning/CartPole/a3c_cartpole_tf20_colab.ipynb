{
  "nbformat": 4,
  "nbformat_minor": 0,
  "metadata": {
    "colab": {
      "name": "a3c_cartpole_tf20_colab.ipynb",
      "version": "0.3.2",
      "provenance": [],
      "collapsed_sections": [],
      "include_colab_link": true
    },
    "kernelspec": {
      "name": "python3",
      "display_name": "Python 3"
    },
    "accelerator": "GPU"
  },
  "cells": [
    {
      "cell_type": "markdown",
      "metadata": {
        "id": "view-in-github",
        "colab_type": "text"
      },
      "source": [
        "<a href=\"https://colab.research.google.com/github/link-kut/deeplink_public/blob/master/2.ReinforcementLearning/CartPole/a3c_cartpole_tf20_colab.ipynb\" target=\"_parent\"><img src=\"https://colab.research.google.com/assets/colab-badge.svg\" alt=\"Open In Colab\"/></a>"
      ]
    },
    {
      "cell_type": "markdown",
      "metadata": {
        "id": "zHePrX0Ys4t0",
        "colab_type": "text"
      },
      "source": [
        "### https://medium.com/@kaleajit27/reinforcement-learning-on-google-colab-9cb2e1ef51e\n",
        "### https://colab.research.google.com/drive/1flu31ulJlgiRL1dnN2ir8wGh9p7Zij2t#scrollTo=8nj5sjsk15IT"
      ]
    },
    {
      "cell_type": "code",
      "metadata": {
        "id": "WPbktIVVtaU8",
        "colab_type": "code",
        "colab": {}
      },
      "source": [
        "#remove \" > /dev/null 2>&1\" to see what is going on under the hood\n",
        "!pip install gym pyvirtualdisplay > /dev/null 2>&1\n",
        "!apt-get install -y xvfb python-opengl ffmpeg > /dev/null 2>&1"
      ],
      "execution_count": 0,
      "outputs": []
    },
    {
      "cell_type": "code",
      "metadata": {
        "id": "J0tPHanBvhV7",
        "colab_type": "code",
        "colab": {
          "base_uri": "https://localhost:8080/",
          "height": 34
        },
        "outputId": "8f23ec18-8cd3-4d5f-ee69-28eb73492ce8"
      },
      "source": [
        "!apt-get update > /dev/null 2>&1\n",
        "!apt-get install cmake > /dev/null 2>&1\n",
        "!pip install --upgrade setuptools 2>&1\n",
        "!pip install ez_setup > /dev/null 2>&1\n",
        "!pip install gym[atari] > /dev/null 2>&1"
      ],
      "execution_count": 2,
      "outputs": [
        {
          "output_type": "stream",
          "text": [
            "Requirement already up-to-date: setuptools in /usr/local/lib/python3.6/dist-packages (41.0.1)\n"
          ],
          "name": "stdout"
        }
      ]
    },
    {
      "cell_type": "code",
      "metadata": {
        "id": "Rpl_V3aQvpeD",
        "colab_type": "code",
        "colab": {}
      },
      "source": [
        "import gym\n",
        "from gym import logger as gymlogger\n",
        "from gym.wrappers import Monitor\n",
        "gymlogger.set_level(40) #error only\n",
        "import tensorflow as tf\n",
        "import numpy as np\n",
        "import random\n",
        "import matplotlib\n",
        "import matplotlib.pyplot as plt\n",
        "%matplotlib inline\n",
        "import math\n",
        "import glob\n",
        "import io\n",
        "import base64\n",
        "from IPython.display import HTML\n",
        "\n",
        "from IPython import display as ipythondisplay"
      ],
      "execution_count": 0,
      "outputs": []
    },
    {
      "cell_type": "code",
      "metadata": {
        "id": "JPBBNI3vvrHb",
        "colab_type": "code",
        "colab": {
          "base_uri": "https://localhost:8080/",
          "height": 54
        },
        "outputId": "9ae37b2b-4b0e-4000-8111-f0aac354ee9c"
      },
      "source": [
        "from pyvirtualdisplay import Display\n",
        "display = Display(visible=0, size=(1400, 900))\n",
        "display.start()"
      ],
      "execution_count": 4,
      "outputs": [
        {
          "output_type": "execute_result",
          "data": {
            "text/plain": [
              "<Display cmd_param=['Xvfb', '-br', '-nolisten', 'tcp', '-screen', '0', '1400x900x24', ':1001'] cmd=['Xvfb', '-br', '-nolisten', 'tcp', '-screen', '0', '1400x900x24', ':1001'] oserror=None return_code=None stdout=\"None\" stderr=\"None\" timeout_happened=False>"
            ]
          },
          "metadata": {
            "tags": []
          },
          "execution_count": 4
        }
      ]
    },
    {
      "cell_type": "code",
      "metadata": {
        "id": "9hyR-2KFv0CQ",
        "colab_type": "code",
        "colab": {}
      },
      "source": [
        "\"\"\"\n",
        "Utility functions to enable video recording of gym environment and displaying it\n",
        "To enable video, just do \"env = wrap_env(env)\"\"\n",
        "\"\"\"\n",
        "\n",
        "def show_video():\n",
        "    mp4list = glob.glob('video/*.mp4')\n",
        "    if len(mp4list) > 0:\n",
        "        mp4 = mp4list[0]\n",
        "        video = io.open(mp4, 'r+b').read()\n",
        "        encoded = base64.b64encode(video)\n",
        "        ipythondisplay.display(HTML(data='''<video alt=\"test\" autoplay \n",
        "                    loop controls style=\"height: 400px;\">\n",
        "                    <source src=\"data:video/mp4;base64,{0}\" type=\"video/mp4\" />\n",
        "                 </video>'''.format(encoded.decode('ascii'))))\n",
        "    else: \n",
        "        print(\"Could not find video\")\n",
        "    \n",
        "\n",
        "def wrap_env(env):\n",
        "    env = Monitor(env, './video', force=True)\n",
        "    return env"
      ],
      "execution_count": 0,
      "outputs": []
    },
    {
      "cell_type": "code",
      "metadata": {
        "id": "wheOMBHRv-w5",
        "colab_type": "code",
        "colab": {}
      },
      "source": [
        "env = wrap_env(gym.make(\"CartPole-v0\"))\n",
        "#env = wrap_env(gym.make(\"MsPacman-v0\"))"
      ],
      "execution_count": 0,
      "outputs": []
    },
    {
      "cell_type": "code",
      "metadata": {
        "id": "nd6E21C7wCfe",
        "colab_type": "code",
        "colab": {
          "base_uri": "https://localhost:8080/",
          "height": 421
        },
        "outputId": "817716a6-7db0-4514-d8f2-eef59a61f100"
      },
      "source": [
        "observation = env.reset()\n",
        "\n",
        "while True:\n",
        "    env.render()\n",
        "    \n",
        "    #your agent goes here\n",
        "    action = env.action_space.sample() \n",
        "         \n",
        "    observation, reward, done, info = env.step(action)\n",
        "    \n",
        "    if done: \n",
        "        break;\n",
        "            \n",
        "env.close()\n",
        "show_video()"
      ],
      "execution_count": 12,
      "outputs": [
        {
          "output_type": "display_data",
          "data": {
            "text/html": [
              "<video alt=\"test\" autoplay \n",
              "                    loop controls style=\"height: 400px;\">\n",
              "                    <source src=\"data:video/mp4;base64,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\" type=\"video/mp4\" />\n",
              "                 </video>"
            ],
            "text/plain": [
              "<IPython.core.display.HTML object>"
            ]
          },
          "metadata": {
            "tags": []
          }
        }
      ]
    },
    {
      "cell_type": "code",
      "metadata": {
        "id": "uS9GkmQEo6Rm",
        "colab_type": "code",
        "colab": {
          "base_uri": "https://localhost:8080/",
          "height": 786
        },
        "outputId": "6a1bb4f3-e7ae-41a3-b247-4bb614d63764"
      },
      "source": [
        "!pip install tensorflow-gpu==2.0.0-alpha0\n",
        "!pip install gputil\n",
        "!pip install psutil\n",
        "!pip install humanize"
      ],
      "execution_count": 8,
      "outputs": [
        {
          "output_type": "stream",
          "text": [
            "Collecting tensorflow-gpu==2.0.0-alpha0\n",
            "\u001b[?25l  Downloading https://files.pythonhosted.org/packages/1a/66/32cffad095253219d53f6b6c2a436637bbe45ac4e7be0244557210dc3918/tensorflow_gpu-2.0.0a0-cp36-cp36m-manylinux1_x86_64.whl (332.1MB)\n",
            "\u001b[K     |████████████████████████████████| 332.1MB 56kB/s \n",
            "\u001b[?25hRequirement already satisfied: grpcio>=1.8.6 in /usr/local/lib/python3.6/dist-packages (from tensorflow-gpu==2.0.0-alpha0) (1.15.0)\n",
            "Collecting tf-estimator-nightly<1.14.0.dev2019030116,>=1.14.0.dev2019030115 (from tensorflow-gpu==2.0.0-alpha0)\n",
            "\u001b[?25l  Downloading https://files.pythonhosted.org/packages/13/82/f16063b4eed210dc2ab057930ac1da4fbe1e91b7b051a6c8370b401e6ae7/tf_estimator_nightly-1.14.0.dev2019030115-py2.py3-none-any.whl (411kB)\n",
            "\u001b[K     |████████████████████████████████| 419kB 38.7MB/s \n",
            "\u001b[?25hRequirement already satisfied: keras-preprocessing>=1.0.5 in /usr/local/lib/python3.6/dist-packages (from tensorflow-gpu==2.0.0-alpha0) (1.0.9)\n",
            "Requirement already satisfied: wheel>=0.26 in /usr/local/lib/python3.6/dist-packages (from tensorflow-gpu==2.0.0-alpha0) (0.33.4)\n",
            "Requirement already satisfied: absl-py>=0.7.0 in /usr/local/lib/python3.6/dist-packages (from tensorflow-gpu==2.0.0-alpha0) (0.7.1)\n",
            "Collecting tb-nightly<1.14.0a20190302,>=1.14.0a20190301 (from tensorflow-gpu==2.0.0-alpha0)\n",
            "\u001b[?25l  Downloading https://files.pythonhosted.org/packages/a9/51/aa1d756644bf4624c03844115e4ac4058eff77acd786b26315f051a4b195/tb_nightly-1.14.0a20190301-py3-none-any.whl (3.0MB)\n",
            "\u001b[K     |████████████████████████████████| 3.0MB 45.7MB/s \n",
            "\u001b[?25hRequirement already satisfied: astor>=0.6.0 in /usr/local/lib/python3.6/dist-packages (from tensorflow-gpu==2.0.0-alpha0) (0.8.0)\n",
            "Requirement already satisfied: termcolor>=1.1.0 in /usr/local/lib/python3.6/dist-packages (from tensorflow-gpu==2.0.0-alpha0) (1.1.0)\n",
            "Collecting google-pasta>=0.1.2 (from tensorflow-gpu==2.0.0-alpha0)\n",
            "\u001b[?25l  Downloading https://files.pythonhosted.org/packages/f9/68/a14620bfb042691f532dcde8576ff82ee82e4c003cdc0a3dbee5f289cee6/google_pasta-0.1.6-py3-none-any.whl (51kB)\n",
            "\u001b[K     |████████████████████████████████| 61kB 26.3MB/s \n",
            "\u001b[?25hRequirement already satisfied: numpy<2.0,>=1.14.5 in /usr/local/lib/python3.6/dist-packages (from tensorflow-gpu==2.0.0-alpha0) (1.16.3)\n",
            "Requirement already satisfied: six>=1.10.0 in /usr/local/lib/python3.6/dist-packages (from tensorflow-gpu==2.0.0-alpha0) (1.12.0)\n",
            "Requirement already satisfied: gast>=0.2.0 in /usr/local/lib/python3.6/dist-packages (from tensorflow-gpu==2.0.0-alpha0) (0.2.2)\n",
            "Requirement already satisfied: keras-applications>=1.0.6 in /usr/local/lib/python3.6/dist-packages (from tensorflow-gpu==2.0.0-alpha0) (1.0.7)\n",
            "Requirement already satisfied: protobuf>=3.6.1 in /usr/local/lib/python3.6/dist-packages (from tensorflow-gpu==2.0.0-alpha0) (3.7.1)\n",
            "Requirement already satisfied: werkzeug>=0.11.15 in /usr/local/lib/python3.6/dist-packages (from tb-nightly<1.14.0a20190302,>=1.14.0a20190301->tensorflow-gpu==2.0.0-alpha0) (0.15.4)\n",
            "Requirement already satisfied: markdown>=2.6.8 in /usr/local/lib/python3.6/dist-packages (from tb-nightly<1.14.0a20190302,>=1.14.0a20190301->tensorflow-gpu==2.0.0-alpha0) (3.1.1)\n",
            "Requirement already satisfied: h5py in /usr/local/lib/python3.6/dist-packages (from keras-applications>=1.0.6->tensorflow-gpu==2.0.0-alpha0) (2.8.0)\n",
            "Requirement already satisfied: setuptools in /usr/local/lib/python3.6/dist-packages (from protobuf>=3.6.1->tensorflow-gpu==2.0.0-alpha0) (41.0.1)\n",
            "Installing collected packages: tf-estimator-nightly, tb-nightly, google-pasta, tensorflow-gpu\n",
            "Successfully installed google-pasta-0.1.6 tb-nightly-1.14.0a20190301 tensorflow-gpu-2.0.0a0 tf-estimator-nightly-1.14.0.dev2019030115\n"
          ],
          "name": "stdout"
        },
        {
          "output_type": "display_data",
          "data": {
            "application/vnd.colab-display-data+json": {
              "pip_warning": {
                "packages": [
                  "tensorflow",
                  "tensorflow_estimator"
                ]
              }
            }
          },
          "metadata": {
            "tags": []
          }
        },
        {
          "output_type": "stream",
          "text": [
            "Collecting gputil\n",
            "  Downloading https://files.pythonhosted.org/packages/ed/0e/5c61eedde9f6c87713e89d794f01e378cfd9565847d4576fa627d758c554/GPUtil-1.4.0.tar.gz\n",
            "Building wheels for collected packages: gputil\n",
            "  Building wheel for gputil (setup.py) ... \u001b[?25l\u001b[?25hdone\n",
            "  Stored in directory: /root/.cache/pip/wheels/3d/77/07/80562de4bb0786e5ea186911a2c831fdd0018bda69beab71fd\n",
            "Successfully built gputil\n",
            "Installing collected packages: gputil\n",
            "Successfully installed gputil-1.4.0\n",
            "Requirement already satisfied: psutil in /usr/local/lib/python3.6/dist-packages (5.4.8)\n",
            "Requirement already satisfied: humanize in /usr/local/lib/python3.6/dist-packages (0.5.1)\n"
          ],
          "name": "stdout"
        }
      ]
    },
    {
      "cell_type": "code",
      "metadata": {
        "id": "AW2rQ22QpWaZ",
        "colab_type": "code",
        "colab": {}
      },
      "source": [
        "import numpy as np\n",
        "import tensorflow as tf\n",
        "import tensorflow.keras.layers as kl"
      ],
      "execution_count": 0,
      "outputs": []
    },
    {
      "cell_type": "code",
      "metadata": {
        "id": "pSoPlEBIpskM",
        "colab_type": "code",
        "colab": {}
      },
      "source": [
        "a = tf.random.categorical([[0.3, 0.7]], 1)"
      ],
      "execution_count": 0,
      "outputs": []
    },
    {
      "cell_type": "code",
      "metadata": {
        "id": "ebq-_fYYpv_f",
        "colab_type": "code",
        "colab": {
          "base_uri": "https://localhost:8080/",
          "height": 51
        },
        "outputId": "6dc600e1-dee3-405d-8107-a3f463c31355"
      },
      "source": [
        "print(a)\n",
        "print(tf.squeeze(a))"
      ],
      "execution_count": 15,
      "outputs": [
        {
          "output_type": "stream",
          "text": [
            "Tensor(\"categorical/Multinomial:0\", shape=(1, 1), dtype=int64)\n",
            "Tensor(\"Squeeze:0\", shape=(), dtype=int64)\n"
          ],
          "name": "stdout"
        }
      ]
    },
    {
      "cell_type": "code",
      "metadata": {
        "id": "LHLBYtCVpmxx",
        "colab_type": "code",
        "colab": {}
      },
      "source": [
        "class ProbabilityDistribution(tf.keras.Model):\n",
        "    def predict(self, logits):\n",
        "        # sample a random categorical action from given logits\n",
        "        return tf.random.categorical(logits, 1)"
      ],
      "execution_count": 0,
      "outputs": []
    },
    {
      "cell_type": "code",
      "metadata": {
        "id": "eNBwJJORppc8",
        "colab_type": "code",
        "colab": {}
      },
      "source": [
        "class Model(tf.keras.Model):\n",
        "    def __init__(self, num_actions):\n",
        "        super().__init__('mlp_policy')\n",
        "        \n",
        "        # no tf.get_variable(), just simple Keras API\n",
        "        self.hidden1 = kl.Dense(128, activation='relu')\n",
        "        self.hidden2 = kl.Dense(128, activation='relu')\n",
        "        self.value = kl.Dense(1, name='value')\n",
        "        \n",
        "        # logits are unnormalized log probabilities\n",
        "        self.logits = kl.Dense(num_actions, name='policy_logits')\n",
        "        self.dist = ProbabilityDistribution()\n",
        "\n",
        "    def predict(self, inputs):\n",
        "        # inputs is a numpy array, convert to Tensor\n",
        "        x = tf.convert_to_tensor(inputs, dtype=tf.float32)\n",
        "        \n",
        "        # separate hidden layers from the same input tensor\n",
        "        hidden_logs = self.hidden1(x)\n",
        "        hidden_vals = self.hidden2(x)\n",
        "        return self.logits(hidden_logs), self.value(hidden_vals)\n",
        "\n",
        "    def action_value(self, obs):\n",
        "        # executes call() under the hood\n",
        "        logits, value = self.predict(obs)\n",
        "        action = self.dist.predict(logits)\n",
        "        \n",
        "        # a simpler option, will become clear later why we don't use it\n",
        "        # action = tf.random.categorical(logits, 1)\n",
        "        return np.squeeze(action, axis=-1), np.squeeze(value, axis=-1)"
      ],
      "execution_count": 0,
      "outputs": []
    },
    {
      "cell_type": "code",
      "metadata": {
        "id": "pc0k3d2tp08n",
        "colab_type": "code",
        "colab": {
          "base_uri": "https://localhost:8080/",
          "height": 34
        },
        "outputId": "6ca11c8a-0aa0-41b6-d417-7fa3e623cf67"
      },
      "source": [
        "model = Model(num_actions=env.action_space.n)\n",
        "\n",
        "obs = env.reset()\n",
        "\n",
        "action, value = model.action_value(obs[None, :])\n",
        "\n",
        "print(action, value) # [1] [-0.00145713]"
      ],
      "execution_count": 19,
      "outputs": [
        {
          "output_type": "stream",
          "text": [
            "Tensor(\"categorical_2/Multinomial:0\", shape=(1, 1), dtype=int64) Tensor(\"value_1/BiasAdd:0\", shape=(1, 1), dtype=float32)\n"
          ],
          "name": "stdout"
        }
      ]
    },
    {
      "cell_type": "code",
      "metadata": {
        "id": "9Zj5TkuCrtXw",
        "colab_type": "code",
        "colab": {}
      },
      "source": [
        "class A2CAgent:\n",
        "    def __init__(self, model):\n",
        "        self.model = model\n",
        "\n",
        "    def test(self, env, render=True):\n",
        "        obs, done, ep_reward = env.reset(), False, 0\n",
        "        \n",
        "        while not done:\n",
        "            action, _ = self.model.action_value(obs[None, :])\n",
        "            obs, reward, done, _ = env.step(action)\n",
        "            ep_reward += reward\n",
        "            if render:\n",
        "                env.render()\n",
        "        return ep_reward"
      ],
      "execution_count": 0,
      "outputs": []
    },
    {
      "cell_type": "code",
      "metadata": {
        "id": "r2MXOfz-sHuI",
        "colab_type": "code",
        "colab": {
          "base_uri": "https://localhost:8080/",
          "height": 358
        },
        "outputId": "7fe4cefe-91fe-4da7-8066-6d1b855a4192"
      },
      "source": [
        "agent = A2CAgent(model)\n",
        "rewards_sum = agent.test(env, render=True)\n",
        "print(\"%d out of 200\" % rewards_sum)"
      ],
      "execution_count": 21,
      "outputs": [
        {
          "output_type": "error",
          "ename": "AssertionError",
          "evalue": "ignored",
          "traceback": [
            "\u001b[0;31m---------------------------------------------------------------------------\u001b[0m",
            "\u001b[0;31mAssertionError\u001b[0m                            Traceback (most recent call last)",
            "\u001b[0;32m<ipython-input-21-cc9b2deae8ad>\u001b[0m in \u001b[0;36m<module>\u001b[0;34m()\u001b[0m\n\u001b[1;32m      1\u001b[0m \u001b[0magent\u001b[0m \u001b[0;34m=\u001b[0m \u001b[0mA2CAgent\u001b[0m\u001b[0;34m(\u001b[0m\u001b[0mmodel\u001b[0m\u001b[0;34m)\u001b[0m\u001b[0;34m\u001b[0m\u001b[0;34m\u001b[0m\u001b[0m\n\u001b[0;32m----> 2\u001b[0;31m \u001b[0mrewards_sum\u001b[0m \u001b[0;34m=\u001b[0m \u001b[0magent\u001b[0m\u001b[0;34m.\u001b[0m\u001b[0mtest\u001b[0m\u001b[0;34m(\u001b[0m\u001b[0menv\u001b[0m\u001b[0;34m,\u001b[0m \u001b[0mrender\u001b[0m\u001b[0;34m=\u001b[0m\u001b[0;32mTrue\u001b[0m\u001b[0;34m)\u001b[0m\u001b[0;34m\u001b[0m\u001b[0;34m\u001b[0m\u001b[0m\n\u001b[0m\u001b[1;32m      3\u001b[0m \u001b[0mprint\u001b[0m\u001b[0;34m(\u001b[0m\u001b[0;34m\"%d out of 200\"\u001b[0m \u001b[0;34m%\u001b[0m \u001b[0mrewards_sum\u001b[0m\u001b[0;34m)\u001b[0m\u001b[0;34m\u001b[0m\u001b[0;34m\u001b[0m\u001b[0m\n",
            "\u001b[0;32m<ipython-input-20-78a79305422f>\u001b[0m in \u001b[0;36mtest\u001b[0;34m(self, env, render)\u001b[0m\n\u001b[1;32m      8\u001b[0m         \u001b[0;32mwhile\u001b[0m \u001b[0;32mnot\u001b[0m \u001b[0mdone\u001b[0m\u001b[0;34m:\u001b[0m\u001b[0;34m\u001b[0m\u001b[0;34m\u001b[0m\u001b[0m\n\u001b[1;32m      9\u001b[0m             \u001b[0maction\u001b[0m\u001b[0;34m,\u001b[0m \u001b[0m_\u001b[0m \u001b[0;34m=\u001b[0m \u001b[0mself\u001b[0m\u001b[0;34m.\u001b[0m\u001b[0mmodel\u001b[0m\u001b[0;34m.\u001b[0m\u001b[0maction_value\u001b[0m\u001b[0;34m(\u001b[0m\u001b[0mobs\u001b[0m\u001b[0;34m[\u001b[0m\u001b[0;32mNone\u001b[0m\u001b[0;34m,\u001b[0m \u001b[0;34m:\u001b[0m\u001b[0;34m]\u001b[0m\u001b[0;34m)\u001b[0m\u001b[0;34m\u001b[0m\u001b[0;34m\u001b[0m\u001b[0m\n\u001b[0;32m---> 10\u001b[0;31m             \u001b[0mobs\u001b[0m\u001b[0;34m,\u001b[0m \u001b[0mreward\u001b[0m\u001b[0;34m,\u001b[0m \u001b[0mdone\u001b[0m\u001b[0;34m,\u001b[0m \u001b[0m_\u001b[0m \u001b[0;34m=\u001b[0m \u001b[0menv\u001b[0m\u001b[0;34m.\u001b[0m\u001b[0mstep\u001b[0m\u001b[0;34m(\u001b[0m\u001b[0maction\u001b[0m\u001b[0;34m)\u001b[0m\u001b[0;34m\u001b[0m\u001b[0;34m\u001b[0m\u001b[0m\n\u001b[0m\u001b[1;32m     11\u001b[0m             \u001b[0mep_reward\u001b[0m \u001b[0;34m+=\u001b[0m \u001b[0mreward\u001b[0m\u001b[0;34m\u001b[0m\u001b[0;34m\u001b[0m\u001b[0m\n\u001b[1;32m     12\u001b[0m             \u001b[0;32mif\u001b[0m \u001b[0mrender\u001b[0m\u001b[0;34m:\u001b[0m\u001b[0;34m\u001b[0m\u001b[0;34m\u001b[0m\u001b[0m\n",
            "\u001b[0;32m/usr/local/lib/python3.6/dist-packages/gym/wrappers/time_limit.py\u001b[0m in \u001b[0;36mstep\u001b[0;34m(self, action)\u001b[0m\n\u001b[1;32m     29\u001b[0m     \u001b[0;32mdef\u001b[0m \u001b[0mstep\u001b[0m\u001b[0;34m(\u001b[0m\u001b[0mself\u001b[0m\u001b[0;34m,\u001b[0m \u001b[0maction\u001b[0m\u001b[0;34m)\u001b[0m\u001b[0;34m:\u001b[0m\u001b[0;34m\u001b[0m\u001b[0;34m\u001b[0m\u001b[0m\n\u001b[1;32m     30\u001b[0m         \u001b[0;32massert\u001b[0m \u001b[0mself\u001b[0m\u001b[0;34m.\u001b[0m\u001b[0m_episode_started_at\u001b[0m \u001b[0;32mis\u001b[0m \u001b[0;32mnot\u001b[0m \u001b[0;32mNone\u001b[0m\u001b[0;34m,\u001b[0m \u001b[0;34m\"Cannot call env.step() before calling reset()\"\u001b[0m\u001b[0;34m\u001b[0m\u001b[0;34m\u001b[0m\u001b[0m\n\u001b[0;32m---> 31\u001b[0;31m         \u001b[0mobservation\u001b[0m\u001b[0;34m,\u001b[0m \u001b[0mreward\u001b[0m\u001b[0;34m,\u001b[0m \u001b[0mdone\u001b[0m\u001b[0;34m,\u001b[0m \u001b[0minfo\u001b[0m \u001b[0;34m=\u001b[0m \u001b[0mself\u001b[0m\u001b[0;34m.\u001b[0m\u001b[0menv\u001b[0m\u001b[0;34m.\u001b[0m\u001b[0mstep\u001b[0m\u001b[0;34m(\u001b[0m\u001b[0maction\u001b[0m\u001b[0;34m)\u001b[0m\u001b[0;34m\u001b[0m\u001b[0;34m\u001b[0m\u001b[0m\n\u001b[0m\u001b[1;32m     32\u001b[0m         \u001b[0mself\u001b[0m\u001b[0;34m.\u001b[0m\u001b[0m_elapsed_steps\u001b[0m \u001b[0;34m+=\u001b[0m \u001b[0;36m1\u001b[0m\u001b[0;34m\u001b[0m\u001b[0;34m\u001b[0m\u001b[0m\n\u001b[1;32m     33\u001b[0m \u001b[0;34m\u001b[0m\u001b[0m\n",
            "\u001b[0;32m/usr/local/lib/python3.6/dist-packages/gym/envs/classic_control/cartpole.py\u001b[0m in \u001b[0;36mstep\u001b[0;34m(self, action)\u001b[0m\n\u001b[1;32m     90\u001b[0m \u001b[0;34m\u001b[0m\u001b[0m\n\u001b[1;32m     91\u001b[0m     \u001b[0;32mdef\u001b[0m \u001b[0mstep\u001b[0m\u001b[0;34m(\u001b[0m\u001b[0mself\u001b[0m\u001b[0;34m,\u001b[0m \u001b[0maction\u001b[0m\u001b[0;34m)\u001b[0m\u001b[0;34m:\u001b[0m\u001b[0;34m\u001b[0m\u001b[0;34m\u001b[0m\u001b[0m\n\u001b[0;32m---> 92\u001b[0;31m         \u001b[0;32massert\u001b[0m \u001b[0mself\u001b[0m\u001b[0;34m.\u001b[0m\u001b[0maction_space\u001b[0m\u001b[0;34m.\u001b[0m\u001b[0mcontains\u001b[0m\u001b[0;34m(\u001b[0m\u001b[0maction\u001b[0m\u001b[0;34m)\u001b[0m\u001b[0;34m,\u001b[0m \u001b[0;34m\"%r (%s) invalid\"\u001b[0m\u001b[0;34m%\u001b[0m\u001b[0;34m(\u001b[0m\u001b[0maction\u001b[0m\u001b[0;34m,\u001b[0m \u001b[0mtype\u001b[0m\u001b[0;34m(\u001b[0m\u001b[0maction\u001b[0m\u001b[0;34m)\u001b[0m\u001b[0;34m)\u001b[0m\u001b[0;34m\u001b[0m\u001b[0;34m\u001b[0m\u001b[0m\n\u001b[0m\u001b[1;32m     93\u001b[0m         \u001b[0mstate\u001b[0m \u001b[0;34m=\u001b[0m \u001b[0mself\u001b[0m\u001b[0;34m.\u001b[0m\u001b[0mstate\u001b[0m\u001b[0;34m\u001b[0m\u001b[0;34m\u001b[0m\u001b[0m\n\u001b[1;32m     94\u001b[0m         \u001b[0mx\u001b[0m\u001b[0;34m,\u001b[0m \u001b[0mx_dot\u001b[0m\u001b[0;34m,\u001b[0m \u001b[0mtheta\u001b[0m\u001b[0;34m,\u001b[0m \u001b[0mtheta_dot\u001b[0m \u001b[0;34m=\u001b[0m \u001b[0mstate\u001b[0m\u001b[0;34m\u001b[0m\u001b[0;34m\u001b[0m\u001b[0m\n",
            "\u001b[0;31mAssertionError\u001b[0m: array(<tf.Tensor 'categorical_3/Multinomial:0' shape=(1, 1) dtype=int64>,\n      dtype=object) (<class 'numpy.ndarray'>) invalid"
          ]
        }
      ]
    },
    {
      "cell_type": "code",
      "metadata": {
        "id": "swWo094LsNhx",
        "colab_type": "code",
        "colab": {}
      },
      "source": [
        ""
      ],
      "execution_count": 0,
      "outputs": []
    }
  ]
}